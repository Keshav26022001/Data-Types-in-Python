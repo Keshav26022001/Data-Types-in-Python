{
 "cells": [
  {
   "cell_type": "raw",
   "id": "c2d69ef8-8a61-4247-ba78-d6e3d4010631",
   "metadata": {},
   "source": [
    "in python the string data type represent the whole numbers data without fractional component.\n"
   ]
  },
  {
   "cell_type": "markdown",
   "id": "6911e185-39e1-471e-b6f7-e3bf56d7e97e",
   "metadata": {},
   "source": [
    "# integer creation using user input "
   ]
  },
  {
   "cell_type": "code",
   "execution_count": 2,
   "id": "db04cb65-6148-495f-9fbf-0e00e5506bf8",
   "metadata": {},
   "outputs": [
    {
     "name": "stdin",
     "output_type": "stream",
     "text": [
      "enter any number 26\n"
     ]
    },
    {
     "data": {
      "text/plain": [
       "26"
      ]
     },
     "execution_count": 2,
     "metadata": {},
     "output_type": "execute_result"
    }
   ],
   "source": [
    "a=int(input('enter any number'))\n",
    "a"
   ]
  },
  {
   "cell_type": "code",
   "execution_count": 4,
   "id": "1e7448f2-78fd-4102-96ee-287cc8eac438",
   "metadata": {},
   "outputs": [
    {
     "data": {
      "text/plain": [
       "int"
      ]
     },
     "execution_count": 4,
     "metadata": {},
     "output_type": "execute_result"
    }
   ],
   "source": [
    "type(a)"
   ]
  },
  {
   "cell_type": "code",
   "execution_count": 6,
   "id": "f8a29e81-befb-4082-a3e3-edb05f4d3c18",
   "metadata": {},
   "outputs": [
    {
     "name": "stdin",
     "output_type": "stream",
     "text": [
      "enter any number 11\n"
     ]
    },
    {
     "data": {
      "text/plain": [
       "'11'"
      ]
     },
     "execution_count": 6,
     "metadata": {},
     "output_type": "execute_result"
    }
   ],
   "source": [
    "b=input('enter any number')\n",
    "b"
   ]
  },
  {
   "cell_type": "code",
   "execution_count": 8,
   "id": "3b932115-92c9-4854-833d-664bc07a465f",
   "metadata": {},
   "outputs": [
    {
     "data": {
      "text/plain": [
       "str"
      ]
     },
     "execution_count": 8,
     "metadata": {},
     "output_type": "execute_result"
    }
   ],
   "source": [
    "type(b)"
   ]
  },
  {
   "cell_type": "raw",
   "id": "e21241df-47f4-425d-b0d4-d05afc573d07",
   "metadata": {},
   "source": [
    "# from above output it is clear that the user input function give default string data type\n",
    "if we need integer data we have to covert it into integer by using 'int()'."
   ]
  },
  {
   "cell_type": "code",
   "execution_count": 10,
   "id": "302020fe-2382-4ca7-8ac9-50ba8299a139",
   "metadata": {},
   "outputs": [
    {
     "data": {
      "text/plain": [
       "11"
      ]
     },
     "execution_count": 10,
     "metadata": {},
     "output_type": "execute_result"
    }
   ],
   "source": [
    "b=int(b)\n",
    "b"
   ]
  },
  {
   "cell_type": "code",
   "execution_count": 12,
   "id": "72fb18f1-c4e9-4d2f-b2fc-812f28a41630",
   "metadata": {},
   "outputs": [
    {
     "data": {
      "text/plain": [
       "int"
      ]
     },
     "execution_count": 12,
     "metadata": {},
     "output_type": "execute_result"
    }
   ],
   "source": [
    "type(b)"
   ]
  },
  {
   "cell_type": "markdown",
   "id": "20896387-d6fd-4396-976d-76ffd30925dc",
   "metadata": {},
   "source": [
    "# Basic Arithmatic operations"
   ]
  },
  {
   "cell_type": "code",
   "execution_count": 17,
   "id": "aa3bc334-2bdb-4b28-9135-be593364e6cb",
   "metadata": {},
   "outputs": [
    {
     "name": "stdin",
     "output_type": "stream",
     "text": [
      "enter first number 26\n",
      "enter second number 11\n"
     ]
    },
    {
     "data": {
      "text/plain": [
       "37"
      ]
     },
     "execution_count": 17,
     "metadata": {},
     "output_type": "execute_result"
    }
   ],
   "source": [
    "# addition\n",
    "q= int(input('enter first number'))\n",
    "w= int(input('enter second number'))\n",
    "e=q+w\n",
    "e"
   ]
  },
  {
   "cell_type": "code",
   "execution_count": 19,
   "id": "d7639bbd-e658-4a72-9bec-9bcab99a8151",
   "metadata": {},
   "outputs": [
    {
     "name": "stdin",
     "output_type": "stream",
     "text": [
      "enter first number 56\n",
      "enter second number 23\n"
     ]
    },
    {
     "data": {
      "text/plain": [
       "33"
      ]
     },
     "execution_count": 19,
     "metadata": {},
     "output_type": "execute_result"
    }
   ],
   "source": [
    "# substrction\n",
    "r=int(input('enter first number'))\n",
    "t= int(input('enter second number'))\n",
    "t=r-t\n",
    "t"
   ]
  },
  {
   "cell_type": "code",
   "execution_count": 21,
   "id": "7a890b4d-2c4c-4fd4-98a8-c32c21c25002",
   "metadata": {},
   "outputs": [
    {
     "name": "stdin",
     "output_type": "stream",
     "text": [
      "Enter first number 22\n",
      "Enter Second number 22\n"
     ]
    },
    {
     "data": {
      "text/plain": [
       "484"
      ]
     },
     "execution_count": 21,
     "metadata": {},
     "output_type": "execute_result"
    }
   ],
   "source": [
    "# Multiplication\n",
    "y=int(input('Enter first number'))\n",
    "u= int(input('Enter Second number'))\n",
    "i=y*u\n",
    "i"
   ]
  },
  {
   "cell_type": "code",
   "execution_count": 25,
   "id": "6283cb39-8ae7-48dc-b6ed-73a712875b18",
   "metadata": {},
   "outputs": [
    {
     "name": "stdin",
     "output_type": "stream",
     "text": [
      "enter any number 22\n",
      "enter second number 2\n"
     ]
    },
    {
     "data": {
      "text/plain": [
       "484"
      ]
     },
     "execution_count": 25,
     "metadata": {},
     "output_type": "execute_result"
    }
   ],
   "source": [
    "# Power of number\n",
    "o=int(input('enter any number'))\n",
    "p=int(input('enter second number'))\n",
    "a=o**p\n",
    "a"
   ]
  },
  {
   "cell_type": "code",
   "execution_count": 27,
   "id": "cb222340-f4c2-4a8e-a929-b4d3330c0f96",
   "metadata": {},
   "outputs": [
    {
     "name": "stdin",
     "output_type": "stream",
     "text": [
      "enter any number 45\n",
      "enter any number 5\n"
     ]
    },
    {
     "data": {
      "text/plain": [
       "9.0"
      ]
     },
     "execution_count": 27,
     "metadata": {},
     "output_type": "execute_result"
    }
   ],
   "source": [
    "# devision\n",
    "s= int(input('enter any number'))\n",
    "d= int(input('enter any number'))\n",
    "f=s/d\n",
    "f"
   ]
  },
  {
   "cell_type": "code",
   "execution_count": 29,
   "id": "130e8320-08b1-43a9-8828-06936c43a420",
   "metadata": {},
   "outputs": [
    {
     "name": "stdin",
     "output_type": "stream",
     "text": [
      "enter first number 45\n",
      "enter second number 5\n"
     ]
    },
    {
     "data": {
      "text/plain": [
       "0"
      ]
     },
     "execution_count": 29,
     "metadata": {},
     "output_type": "execute_result"
    }
   ],
   "source": [
    "# Remainder\n",
    "g=int(input('enter first number'))\n",
    "h=int(input('enter second number'))\n",
    "j=g%h\n",
    "j"
   ]
  },
  {
   "cell_type": "code",
   "execution_count": 33,
   "id": "c9009eca-9141-45f2-b7b5-5b2d6ca32fbd",
   "metadata": {},
   "outputs": [
    {
     "name": "stdin",
     "output_type": "stream",
     "text": [
      "enter first number 45\n",
      "enter second number 5\n"
     ]
    },
    {
     "data": {
      "text/plain": [
       "9"
      ]
     },
     "execution_count": 33,
     "metadata": {},
     "output_type": "execute_result"
    }
   ],
   "source": [
    "# Quotiont\n",
    "k=int(input('enter first number'))\n",
    "l=int(input('enter second number'))\n",
    "x=k//l\n",
    "x"
   ]
  },
  {
   "cell_type": "code",
   "execution_count": 37,
   "id": "e6254083-089f-48ca-885b-fd2481759fd8",
   "metadata": {},
   "outputs": [
    {
     "name": "stdin",
     "output_type": "stream",
     "text": [
      "enter any number 45\n",
      "enter another nmber 56\n"
     ]
    },
    {
     "data": {
      "text/plain": [
       "False"
      ]
     },
     "execution_count": 37,
     "metadata": {},
     "output_type": "execute_result"
    }
   ],
   "source": [
    "# greater than , less than operations\n",
    "c=int(input('enter any number'))\n",
    "v=int(input('enter another nmber'))\n",
    "b=c>v\n",
    "b"
   ]
  },
  {
   "cell_type": "code",
   "execution_count": 39,
   "id": "1fa96a8f-d6bc-4970-be22-ed0e12277f11",
   "metadata": {},
   "outputs": [
    {
     "name": "stdin",
     "output_type": "stream",
     "text": [
      "enter first number 45\n",
      "enter second number 56\n"
     ]
    },
    {
     "data": {
      "text/plain": [
       "True"
      ]
     },
     "execution_count": 39,
     "metadata": {},
     "output_type": "execute_result"
    }
   ],
   "source": [
    "n=int(input('enter first number'))\n",
    "m= int(input('enter second number'))\n",
    "qw=n<m\n",
    "qw"
   ]
  },
  {
   "cell_type": "code",
   "execution_count": 41,
   "id": "10dcc23e-6143-47f2-97c1-c4b5a97f362e",
   "metadata": {},
   "outputs": [
    {
     "name": "stdin",
     "output_type": "stream",
     "text": [
      "enter first number 50\n",
      "enter second number 45\n"
     ]
    },
    {
     "data": {
      "text/plain": [
       "False"
      ]
     },
     "execution_count": 41,
     "metadata": {},
     "output_type": "execute_result"
    }
   ],
   "source": [
    "# checking equality\n",
    "we=int(input ('enter first number'))\n",
    "er=int(input('enter second number'))\n",
    "rt=we==er\n",
    "rt"
   ]
  },
  {
   "cell_type": "code",
   "execution_count": 45,
   "id": "be9015d8-97a0-4d79-951e-8bfb8bd01611",
   "metadata": {},
   "outputs": [
    {
     "name": "stdin",
     "output_type": "stream",
     "text": [
      "enter first number 45\n",
      "enter second number 52\n"
     ]
    },
    {
     "data": {
      "text/plain": [
       "True"
      ]
     },
     "execution_count": 45,
     "metadata": {},
     "output_type": "execute_result"
    }
   ],
   "source": [
    "# Checking inequality\n",
    "ty=int(input('enter first number'))\n",
    "yu= int(input('enter second number'))\n",
    "ui=ty!=yu\n",
    "ui"
   ]
  },
  {
   "cell_type": "markdown",
   "id": "ff467c74-d97f-44bc-a91c-ed8d376aa5e4",
   "metadata": {},
   "source": [
    "# Logic gates for boolean data"
   ]
  },
  {
   "cell_type": "raw",
   "id": "42847e7f-4550-4efb-b97b-bb39ac2fd1e3",
   "metadata": {},
   "source": [
    "# logic gates are used for the boolean data that is the data which is in the form of \n",
    "'zero' and 'one' only. \n",
    "So let us understand first the basic gates."
   ]
  },
  {
   "cell_type": "code",
   "execution_count": 63,
   "id": "7cc26afe-ab9b-4745-836e-2526222d64e4",
   "metadata": {},
   "outputs": [
    {
     "data": {
      "text/plain": [
       "0"
      ]
     },
     "execution_count": 63,
     "metadata": {},
     "output_type": "execute_result"
    }
   ],
   "source": [
    "# AND(&) gate. It needs all the values 'one' to get output 'one'. It is a multivariable gate.\n",
    "a=0\n",
    "b=1\n",
    "c=a&b\n",
    "c"
   ]
  },
  {
   "cell_type": "code",
   "execution_count": 67,
   "id": "f78d68d4-6ba5-4feb-9243-858bdb56a0c4",
   "metadata": {},
   "outputs": [
    {
     "data": {
      "text/plain": [
       "1"
      ]
     },
     "execution_count": 67,
     "metadata": {},
     "output_type": "execute_result"
    }
   ],
   "source": [
    "# OR(|) gate. It needs at least single value 'one' to get output 'one'.It is a \n",
    "# multivariable gate.\n",
    "a\n",
    "b\n",
    "a|b"
   ]
  },
  {
   "cell_type": "code",
   "execution_count": 69,
   "id": "1c73679c-86a8-450b-8a78-75560392c952",
   "metadata": {},
   "outputs": [
    {
     "data": {
      "text/plain": [
       "1"
      ]
     },
     "execution_count": 69,
     "metadata": {},
     "output_type": "execute_result"
    }
   ],
   "source": [
    "# XOR(^) gate. It gives 'one' in output when only single value is 'one' if both values are\n",
    "# either 'one' or 'zero' the output will be zero. It is a multivariable gate.\n",
    "a^b"
   ]
  },
  {
   "cell_type": "code",
   "execution_count": 75,
   "id": "b43ee493-7c5f-49f8-95d5-349cc8456e6e",
   "metadata": {},
   "outputs": [
    {
     "data": {
      "text/plain": [
       "-2"
      ]
     },
     "execution_count": 75,
     "metadata": {},
     "output_type": "execute_result"
    }
   ],
   "source": [
    "# NOT gate (~) . It is a complementry gate that means if you give 'one' in input\n",
    "# you will gate 'zero' in the output and viceversa. It is a single variable gate. It gives \n",
    "# result in 'int' form\n",
    "k=1\n",
    "~k"
   ]
  },
  {
   "cell_type": "markdown",
   "id": "3b218fc9-1202-4814-9ca9-20d63da78390",
   "metadata": {},
   "source": [
    "# Float data "
   ]
  },
  {
   "cell_type": "raw",
   "id": "db0d62c7-b459-40ef-a75e-13fd9a8abe6e",
   "metadata": {},
   "source": [
    "# in python the string data type represent the whole numbers data with fractional component.\n",
    "# you can do all the arithmatic operations on float like int.\n"
   ]
  },
  {
   "cell_type": "code",
   "execution_count": 80,
   "id": "4e2022fb-a229-453b-8a04-7339cba15548",
   "metadata": {},
   "outputs": [
    {
     "name": "stdin",
     "output_type": "stream",
     "text": [
      "enter your height 172.5\n"
     ]
    },
    {
     "data": {
      "text/plain": [
       "float"
      ]
     },
     "execution_count": 80,
     "metadata": {},
     "output_type": "execute_result"
    }
   ],
   "source": [
    "height=float(input('enter your height'))\n",
    "height\n",
    "type(height)"
   ]
  },
  {
   "cell_type": "markdown",
   "id": "c5623d57-8475-4a8f-b40a-a571026945a8",
   "metadata": {},
   "source": [
    "# built in functions for 'int' and 'float'"
   ]
  },
  {
   "cell_type": "code",
   "execution_count": 83,
   "id": "380e4cdb-74cb-4f58-92b9-49b30309a2c8",
   "metadata": {},
   "outputs": [
    {
     "name": "stdin",
     "output_type": "stream",
     "text": [
      "Enter any number 5.8\n"
     ]
    },
    {
     "data": {
      "text/plain": [
       "6"
      ]
     },
     "execution_count": 83,
     "metadata": {},
     "output_type": "execute_result"
    }
   ],
   "source": [
    "# round() this function coverts the float into the nearest int.\n",
    "a=float(input('Enter any number'))\n",
    "b= round(a)\n",
    "b"
   ]
  },
  {
   "cell_type": "code",
   "execution_count": 85,
   "id": "0559e77b-d35e-47d1-91d6-7a337b37436a",
   "metadata": {},
   "outputs": [
    {
     "name": "stdin",
     "output_type": "stream",
     "text": [
      "Enter any number 170.2\n"
     ]
    },
    {
     "data": {
      "text/plain": [
       "170"
      ]
     },
     "execution_count": 85,
     "metadata": {},
     "output_type": "execute_result"
    }
   ],
   "source": [
    "c= float (input('Enter any number'))\n",
    "d= round(c)\n",
    "d"
   ]
  },
  {
   "cell_type": "code",
   "execution_count": 97,
   "id": "5c5dccb8-b496-405f-a1ae-fc75f48141a8",
   "metadata": {},
   "outputs": [
    {
     "name": "stdin",
     "output_type": "stream",
     "text": [
      "enter any number -45\n"
     ]
    },
    {
     "data": {
      "text/plain": [
       "45"
      ]
     },
     "execution_count": 97,
     "metadata": {},
     "output_type": "execute_result"
    }
   ],
   "source": [
    "# abs() this functin returns the absolute value of the integer.\n",
    "e=int(input('enter any number'))\n",
    "abs(e)"
   ]
  },
  {
   "cell_type": "code",
   "execution_count": 93,
   "id": "52bddfbe-d504-4e7a-9d38-90cec257f93f",
   "metadata": {},
   "outputs": [
    {
     "data": {
      "text/plain": [
       "45"
      ]
     },
     "execution_count": 93,
     "metadata": {},
     "output_type": "execute_result"
    }
   ],
   "source": [
    "# abs()\n",
    "f=-45\n",
    "abs(f)"
   ]
  },
  {
   "cell_type": "raw",
   "id": "43ba52f4-55bb-4446-bbe8-bb3c4139c87c",
   "metadata": {},
   "source": [
    "# abs() function does not work on user input when the user input is taken only as input()\n",
    "because in user input the default data type is string."
   ]
  },
  {
   "cell_type": "code",
   "execution_count": 99,
   "id": "23fe08e9-45e9-40b1-a409-79eb99dd2fd2",
   "metadata": {},
   "outputs": [
    {
     "name": "stdin",
     "output_type": "stream",
     "text": [
      "enter any number -45\n"
     ]
    },
    {
     "ename": "TypeError",
     "evalue": "bad operand type for abs(): 'str'",
     "output_type": "error",
     "traceback": [
      "\u001b[1;31m---------------------------------------------------------------------------\u001b[0m",
      "\u001b[1;31mTypeError\u001b[0m                                 Traceback (most recent call last)",
      "Cell \u001b[1;32mIn[99], line 2\u001b[0m\n\u001b[0;32m      1\u001b[0m n\u001b[38;5;241m=\u001b[39m\u001b[38;5;28minput\u001b[39m(\u001b[38;5;124m'\u001b[39m\u001b[38;5;124menter any number\u001b[39m\u001b[38;5;124m'\u001b[39m)\n\u001b[1;32m----> 2\u001b[0m \u001b[38;5;28mabs\u001b[39m(n)\n",
      "\u001b[1;31mTypeError\u001b[0m: bad operand type for abs(): 'str'"
     ]
    }
   ],
   "source": [
    "n=input('enter any number')\n",
    "abs(n)"
   ]
  },
  {
   "cell_type": "code",
   "execution_count": 103,
   "id": "58ee75fe-5694-458f-bb4b-597db9632764",
   "metadata": {},
   "outputs": [
    {
     "name": "stdin",
     "output_type": "stream",
     "text": [
      "enter first number 2\n",
      "enter second number 2\n"
     ]
    },
    {
     "data": {
      "text/plain": [
       "4"
      ]
     },
     "execution_count": 103,
     "metadata": {},
     "output_type": "execute_result"
    }
   ],
   "source": [
    "# pow() this function returns the power of the first number indexed by second number\n",
    "a=int(input('enter first number'))\n",
    "b=int(input('enter second number'))\n",
    "c=pow(a,b)\n",
    "c"
   ]
  },
  {
   "cell_type": "code",
   "execution_count": 105,
   "id": "e0b7e185-ccbc-4801-ace5-a73c3fe0a142",
   "metadata": {},
   "outputs": [
    {
     "name": "stdin",
     "output_type": "stream",
     "text": [
      "enter first number 16\n",
      "enter second number 2\n"
     ]
    },
    {
     "data": {
      "text/plain": [
       "256"
      ]
     },
     "execution_count": 105,
     "metadata": {},
     "output_type": "execute_result"
    }
   ],
   "source": [
    "a=int(input('enter first number'))\n",
    "b=int(input('enter second number'))\n",
    "c=pow(a,b)\n",
    "c"
   ]
  },
  {
   "cell_type": "code",
   "execution_count": 111,
   "id": "b7834f16-4c74-4d3d-a1b1-2cf1450a2adf",
   "metadata": {},
   "outputs": [
    {
     "name": "stdin",
     "output_type": "stream",
     "text": [
      "enter any number 26\n",
      "enter any number 11\n"
     ]
    },
    {
     "data": {
      "text/plain": [
       "(2, 4)"
      ]
     },
     "execution_count": 111,
     "metadata": {},
     "output_type": "execute_result"
    }
   ],
   "source": [
    "# divmod() this function returs the tuple containing the values pf quotiont and remainder\n",
    "# by dividing the two integers.\n",
    "s=int(input('enter any number'))\n",
    "k=int(input('enter any number'))\n",
    "j=divmod(s,k)\n",
    "j"
   ]
  },
  {
   "cell_type": "code",
   "execution_count": 113,
   "id": "a61c9ebd-c886-4b2d-aa12-c89bd60291bc",
   "metadata": {},
   "outputs": [
    {
     "name": "stdin",
     "output_type": "stream",
     "text": [
      "enter any number 56\n",
      "enter any number 2\n"
     ]
    },
    {
     "data": {
      "text/plain": [
       "(28, 0)"
      ]
     },
     "execution_count": 113,
     "metadata": {},
     "output_type": "execute_result"
    }
   ],
   "source": [
    "p=int(input('enter any number'))\n",
    "g=int(input('enter any number'))\n",
    "m=divmod(p,g)\n",
    "m"
   ]
  },
  {
   "cell_type": "code",
   "execution_count": 119,
   "id": "0097abe0-19fd-412c-a58d-1433a7e20f25",
   "metadata": {},
   "outputs": [
    {
     "name": "stdin",
     "output_type": "stream",
     "text": [
      "enter first number 56\n",
      "enter second number 56.88\n",
      "enter third number 25\n",
      "enter fourth number 25.2\n"
     ]
    },
    {
     "name": "stdout",
     "output_type": "stream",
     "text": [
      "56.88\n",
      "25\n"
     ]
    }
   ],
   "source": [
    "# max() and min() which gives the maximun and minimum number from the given numbers.\n",
    "a=int(input('enter first number'))\n",
    "b=float(input('enter second number'))\n",
    "c=int(input('enter third number'))\n",
    "d=float(input('enter fourth number'))\n",
    "e=max(a,b,c,d)\n",
    "print(e)\n",
    "f=min(a,b,c,d)\n",
    "print(f)"
   ]
  },
  {
   "cell_type": "code",
   "execution_count": null,
   "id": "4e4fb1e4-af0e-4324-9281-920290e4b09f",
   "metadata": {},
   "outputs": [],
   "source": []
  }
 ],
 "metadata": {
  "kernelspec": {
   "display_name": "Python 3 (ipykernel)",
   "language": "python",
   "name": "python3"
  },
  "language_info": {
   "codemirror_mode": {
    "name": "ipython",
    "version": 3
   },
   "file_extension": ".py",
   "mimetype": "text/x-python",
   "name": "python",
   "nbconvert_exporter": "python",
   "pygments_lexer": "ipython3",
   "version": "3.12.4"
  }
 },
 "nbformat": 4,
 "nbformat_minor": 5
}
