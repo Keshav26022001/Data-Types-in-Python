{
 "cells": [
  {
   "cell_type": "raw",
   "id": "bb5c7fc8-df9a-47ce-b3dd-ab13ce3184ce",
   "metadata": {},
   "source": [
    "in python the string data type (str) is used to represent text. Strings are created by by enclosing text in single quotes(''), or double (\"\"), or trple quotes (\"\"\"\")"
   ]
  },
  {
   "cell_type": "markdown",
   "id": "d9d7238f-4ac2-44db-ab61-ade6a2fdf072",
   "metadata": {},
   "source": [
    "# String Creation"
   ]
  },
  {
   "cell_type": "code",
   "execution_count": 4,
   "id": "867726c8-c43b-48fc-a695-e0a3764d5920",
   "metadata": {},
   "outputs": [
    {
     "data": {
      "text/plain": [
       "'Keshav Mahesh Joshi'"
      ]
     },
     "execution_count": 4,
     "metadata": {},
     "output_type": "execute_result"
    }
   ],
   "source": [
    "name='Keshav Mahesh Joshi'\n",
    "name"
   ]
  },
  {
   "cell_type": "code",
   "execution_count": 6,
   "id": "69ca44d6-7e78-4c5c-ab7e-55709b9220ae",
   "metadata": {},
   "outputs": [
    {
     "data": {
      "text/plain": [
       "'Student'"
      ]
     },
     "execution_count": 6,
     "metadata": {},
     "output_type": "execute_result"
    }
   ],
   "source": [
    "about=\"Student\"\n",
    "about"
   ]
  },
  {
   "cell_type": "code",
   "execution_count": 8,
   "id": "81cf87f9-2a4b-4e34-a422-18893b95b6d3",
   "metadata": {},
   "outputs": [
    {
     "data": {
      "text/plain": [
       "'Pankaj'"
      ]
     },
     "execution_count": 8,
     "metadata": {},
     "output_type": "execute_result"
    }
   ],
   "source": [
    "friend=\"\"\"Pankaj\"\"\"\n",
    "friend"
   ]
  },
  {
   "cell_type": "code",
   "execution_count": 10,
   "id": "05830f08-8697-4328-bb92-abb85af2cd04",
   "metadata": {},
   "outputs": [
    {
     "data": {
      "text/plain": [
       "str"
      ]
     },
     "execution_count": 10,
     "metadata": {},
     "output_type": "execute_result"
    }
   ],
   "source": [
    "type(name)"
   ]
  },
  {
   "cell_type": "code",
   "execution_count": 12,
   "id": "351edbdd-a375-4a48-9798-c903dab80085",
   "metadata": {},
   "outputs": [
    {
     "data": {
      "text/plain": [
       "str"
      ]
     },
     "execution_count": 12,
     "metadata": {},
     "output_type": "execute_result"
    }
   ],
   "source": [
    "type(about)"
   ]
  },
  {
   "cell_type": "code",
   "execution_count": 14,
   "id": "a00987a1-7233-45c3-9fec-f85e24b28b66",
   "metadata": {},
   "outputs": [
    {
     "data": {
      "text/plain": [
       "str"
      ]
     },
     "execution_count": 14,
     "metadata": {},
     "output_type": "execute_result"
    }
   ],
   "source": [
    "type(friend)"
   ]
  },
  {
   "cell_type": "markdown",
   "id": "05c6d131-1b87-499d-82b9-7aad812eb873",
   "metadata": {},
   "source": [
    "# Common String Operations"
   ]
  },
  {
   "cell_type": "raw",
   "id": "b6432680-1fbb-42ca-a758-b4de286a0ba4",
   "metadata": {},
   "source": [
    "# Concatenation\n",
    "# combining two or more strings using '+' operator\n"
   ]
  },
  {
   "cell_type": "code",
   "execution_count": 23,
   "id": "6715c2dd-e7b8-4a0d-9b96-4d8e3b1c82e3",
   "metadata": {},
   "outputs": [
    {
     "name": "stdout",
     "output_type": "stream",
     "text": [
      "Keshav \n",
      "Joshi\n"
     ]
    }
   ],
   "source": [
    "first_name= 'Keshav '\n",
    "last_name= 'Joshi'\n",
    "print(first_name)\n",
    "print(last_name)"
   ]
  },
  {
   "cell_type": "code",
   "execution_count": 25,
   "id": "ea8014b3-3e9a-46b6-82ba-bdbfd5aa4938",
   "metadata": {},
   "outputs": [
    {
     "data": {
      "text/plain": [
       "'Keshav Joshi'"
      ]
     },
     "execution_count": 25,
     "metadata": {},
     "output_type": "execute_result"
    }
   ],
   "source": [
    "full_name=first_name + last_name\n",
    "full_name"
   ]
  },
  {
   "cell_type": "code",
   "execution_count": 3,
   "id": "23c9baf1-f363-4849-825d-77994fb88a40",
   "metadata": {},
   "outputs": [
    {
     "name": "stdout",
     "output_type": "stream",
     "text": [
      "she is beautiful \n",
      "and also so smart\n"
     ]
    }
   ],
   "source": [
    "a= 'she is beautiful '\n",
    "b= 'and also so smart'\n",
    "print(a)\n",
    "print(b)"
   ]
  },
  {
   "cell_type": "code",
   "execution_count": 5,
   "id": "d2e1188a-be16-4866-95ce-8eb76c64d47a",
   "metadata": {},
   "outputs": [
    {
     "data": {
      "text/plain": [
       "'she is beautiful and also so smart'"
      ]
     },
     "execution_count": 5,
     "metadata": {},
     "output_type": "execute_result"
    }
   ],
   "source": [
    "c= a+b\n",
    "c"
   ]
  },
  {
   "cell_type": "code",
   "execution_count": 7,
   "id": "8ad8e967-64c2-4398-b070-190e58a281d3",
   "metadata": {},
   "outputs": [
    {
     "ename": "TypeError",
     "evalue": "unsupported operand type(s) for -: 'str' and 'str'",
     "output_type": "error",
     "traceback": [
      "\u001b[1;31m---------------------------------------------------------------------------\u001b[0m",
      "\u001b[1;31mTypeError\u001b[0m                                 Traceback (most recent call last)",
      "Cell \u001b[1;32mIn[7], line 1\u001b[0m\n\u001b[1;32m----> 1\u001b[0m c \u001b[38;5;241m=\u001b[39m a\u001b[38;5;241m-\u001b[39mb\n\u001b[0;32m      2\u001b[0m c\n",
      "\u001b[1;31mTypeError\u001b[0m: unsupported operand type(s) for -: 'str' and 'str'"
     ]
    }
   ],
   "source": [
    "c = a-b\n",
    "c"
   ]
  },
  {
   "cell_type": "raw",
   "id": "be4d5e54-c8d7-4973-acf5-efdf80fff688",
   "metadata": {},
   "source": [
    "# Repetition\n",
    "# repeating a string using the '*' operatator\n"
   ]
  },
  {
   "cell_type": "code",
   "execution_count": 11,
   "id": "c82e827c-7ced-46a3-b096-0c943e8c26cf",
   "metadata": {},
   "outputs": [
    {
     "data": {
      "text/plain": [
       "'hi sweety hi sweety hi sweety hi sweety hi sweety hi sweety hi sweety hi sweety hi sweety hi sweety hi sweety '"
      ]
     },
     "execution_count": 11,
     "metadata": {},
     "output_type": "execute_result"
    }
   ],
   "source": [
    "k= 'hi sweety '\n",
    "j= k*11\n",
    "j"
   ]
  },
  {
   "cell_type": "code",
   "execution_count": 19,
   "id": "4b934caf-cbc6-4cb9-8776-cdf9bc8c8939",
   "metadata": {},
   "outputs": [
    {
     "data": {
      "text/plain": [
       "'  sorry sweety    sorry sweety    sorry sweety    sorry sweety    sorry sweety    sorry sweety    sorry sweety    sorry sweety    sorry sweety    sorry sweety    sorry sweety    sorry sweety    sorry sweety    sorry sweety    sorry sweety    sorry sweety    sorry sweety    sorry sweety    sorry sweety    sorry sweety    sorry sweety    sorry sweety    sorry sweety    sorry sweety    sorry sweety    sorry sweety    sorry sweety    sorry sweety    sorry sweety    sorry sweety    sorry sweety    sorry sweety    sorry sweety    sorry sweety    sorry sweety    sorry sweety    sorry sweety    sorry sweety    sorry sweety    sorry sweety    sorry sweety    sorry sweety    sorry sweety    sorry sweety    sorry sweety    sorry sweety    sorry sweety    sorry sweety    sorry sweety    sorry sweety  '"
      ]
     },
     "execution_count": 19,
     "metadata": {},
     "output_type": "execute_result"
    }
   ],
   "source": [
    "s= '  sorry sweety  '\n",
    "d= s*50\n",
    "d"
   ]
  },
  {
   "cell_type": "raw",
   "id": "a2851109-93c4-4ecf-a9ee-c017028eefbe",
   "metadata": {},
   "source": [
    "\n",
    "# Indexing\n",
    "# Accesing a character at a specific position\n"
   ]
  },
  {
   "cell_type": "code",
   "execution_count": 23,
   "id": "cd66291c-2778-440c-b4c0-7c3d7963107d",
   "metadata": {},
   "outputs": [
    {
     "data": {
      "text/plain": [
       "'My name is Keshav Mahesh Joshi'"
      ]
     },
     "execution_count": 23,
     "metadata": {},
     "output_type": "execute_result"
    }
   ],
   "source": [
    "K= 'My name is Keshav Mahesh Joshi'\n",
    "K"
   ]
  },
  {
   "cell_type": "code",
   "execution_count": 25,
   "id": "fc8c1358-65c9-4587-afd9-5091a91f88a1",
   "metadata": {},
   "outputs": [
    {
     "data": {
      "text/plain": [
       "' '"
      ]
     },
     "execution_count": 25,
     "metadata": {},
     "output_type": "execute_result"
    }
   ],
   "source": [
    "K[2]"
   ]
  },
  {
   "cell_type": "code",
   "execution_count": 27,
   "id": "2b2229ec-e107-4a97-9692-fcdf90f172ad",
   "metadata": {},
   "outputs": [
    {
     "data": {
      "text/plain": [
       "'Keshav'"
      ]
     },
     "execution_count": 27,
     "metadata": {},
     "output_type": "execute_result"
    }
   ],
   "source": [
    "K[11:17]"
   ]
  },
  {
   "cell_type": "code",
   "execution_count": 29,
   "id": "af086768-340f-47b3-b018-f93f9916c915",
   "metadata": {},
   "outputs": [
    {
     "data": {
      "text/plain": [
       "'My name is Keshav Mahesh Joshi'"
      ]
     },
     "execution_count": 29,
     "metadata": {},
     "output_type": "execute_result"
    }
   ],
   "source": [
    "K[:100]"
   ]
  },
  {
   "cell_type": "code",
   "execution_count": 31,
   "id": "88fd3ad1-3346-49ca-a9ac-b9877f692d1d",
   "metadata": {},
   "outputs": [
    {
     "data": {
      "text/plain": [
       "'My na'"
      ]
     },
     "execution_count": 31,
     "metadata": {},
     "output_type": "execute_result"
    }
   ],
   "source": [
    "K[:5]"
   ]
  },
  {
   "cell_type": "code",
   "execution_count": 33,
   "id": "192cfe99-6451-410e-81e7-3529dc6195c6",
   "metadata": {},
   "outputs": [
    {
     "data": {
      "text/plain": [
       "'My name is Keshav Mahesh Joshi'"
      ]
     },
     "execution_count": 33,
     "metadata": {},
     "output_type": "execute_result"
    }
   ],
   "source": [
    "K[:]"
   ]
  },
  {
   "cell_type": "raw",
   "id": "467b6531-e13e-4649-a683-99b947ff824e",
   "metadata": {},
   "source": [
    "\n",
    "# if you want to print Keshav then give command K[11:17]\n",
    "# if you give K[11:16] it will exclude the last letter because in the indexing the last position \n",
    "# is excluded. \n"
   ]
  },
  {
   "cell_type": "code",
   "execution_count": 39,
   "id": "b56fca3f-f344-4a0d-87e9-e85a50012b68",
   "metadata": {},
   "outputs": [
    {
     "data": {
      "text/plain": [
       "'Kesha'"
      ]
     },
     "execution_count": 39,
     "metadata": {},
     "output_type": "execute_result"
    }
   ],
   "source": [
    "K[11:16]"
   ]
  },
  {
   "cell_type": "code",
   "execution_count": 48,
   "id": "6f51f713-caa3-4362-906e-90001e36eccb",
   "metadata": {},
   "outputs": [
    {
     "data": {
      "text/plain": [
       "''"
      ]
     },
     "execution_count": 48,
     "metadata": {},
     "output_type": "execute_result"
    }
   ],
   "source": [
    "K[31:]"
   ]
  },
  {
   "cell_type": "code",
   "execution_count": 50,
   "id": "f3037710-f9a2-42f6-ae56-4b822c063ea9",
   "metadata": {},
   "outputs": [
    {
     "data": {
      "text/plain": [
       "'My name is Keshav Mahesh Joshi'"
      ]
     },
     "execution_count": 50,
     "metadata": {},
     "output_type": "execute_result"
    }
   ],
   "source": [
    "K[0:]"
   ]
  },
  {
   "cell_type": "raw",
   "id": "80de95d2-2675-488e-b052-068aa69a65c1",
   "metadata": {},
   "source": [
    "\n",
    "# Length\n",
    "# Getting the number of characters in a string using the len() function.\n"
   ]
  },
  {
   "cell_type": "code",
   "execution_count": 52,
   "id": "2854cde0-6957-4469-b644-f90f17eca70a",
   "metadata": {},
   "outputs": [
    {
     "data": {
      "text/plain": [
       "'My name is Keshav Mahesh Joshi'"
      ]
     },
     "execution_count": 52,
     "metadata": {},
     "output_type": "execute_result"
    }
   ],
   "source": [
    "K"
   ]
  },
  {
   "cell_type": "code",
   "execution_count": 54,
   "id": "b0faba59-5e0a-4c13-973a-328c0ab128f0",
   "metadata": {},
   "outputs": [
    {
     "data": {
      "text/plain": [
       "30"
      ]
     },
     "execution_count": 54,
     "metadata": {},
     "output_type": "execute_result"
    }
   ],
   "source": [
    "length  = len(K)\n",
    "length"
   ]
  },
  {
   "cell_type": "code",
   "execution_count": 56,
   "id": "e4d37841-0ed2-49ec-aa15-c8a8eaf52832",
   "metadata": {},
   "outputs": [
    {
     "data": {
      "text/plain": [
       "30"
      ]
     },
     "execution_count": 56,
     "metadata": {},
     "output_type": "execute_result"
    }
   ],
   "source": [
    "len(K)"
   ]
  },
  {
   "cell_type": "markdown",
   "id": "80299a83-c99c-41fd-b5ba-6669e52a05c8",
   "metadata": {},
   "source": [
    "# String Methods"
   ]
  },
  {
   "cell_type": "raw",
   "id": "eeca142d-df0f-49f9-aa63-f24278af5800",
   "metadata": {},
   "source": [
    "1) str.lower() it converts all characters of a string into lowercase\n",
    "2) str.upper() it converts all characters of a string into uppercase.\n",
    "3) str.capitalize() it capitalize the first letter of the given string\n",
    "4) str.title() it capitalize the first letter of ecach character of given string.\n",
    "5) str.swapcase() swap the case of all characters i.e if character is in uppercase then it   will be converted into lowercase and viceverca.\n"
   ]
  },
  {
   "cell_type": "code",
   "execution_count": 3,
   "id": "e6633714-2416-4c87-b1a4-fa3ef2b305d9",
   "metadata": {},
   "outputs": [
    {
     "data": {
      "text/plain": [
       "'HI SWEETY'"
      ]
     },
     "execution_count": 3,
     "metadata": {},
     "output_type": "execute_result"
    }
   ],
   "source": [
    "a= 'HI SWEETY'\n",
    "a"
   ]
  },
  {
   "cell_type": "code",
   "execution_count": 5,
   "id": "a7f4d1e5-cf20-42e6-a8c4-3d320ef0b177",
   "metadata": {},
   "outputs": [
    {
     "data": {
      "text/plain": [
       "'hi sweety'"
      ]
     },
     "execution_count": 5,
     "metadata": {},
     "output_type": "execute_result"
    }
   ],
   "source": [
    "str.lower(a)"
   ]
  },
  {
   "cell_type": "code",
   "execution_count": 8,
   "id": "cfca7e71-8293-4105-9415-df358578ba95",
   "metadata": {},
   "outputs": [
    {
     "data": {
      "text/plain": [
       "'HOW ARE YOU'"
      ]
     },
     "execution_count": 8,
     "metadata": {},
     "output_type": "execute_result"
    }
   ],
   "source": [
    "b='HOW ARE YOU'\n",
    "b"
   ]
  },
  {
   "cell_type": "code",
   "execution_count": 10,
   "id": "d2ee6b2b-207a-4f63-909d-e8822015f16c",
   "metadata": {},
   "outputs": [
    {
     "data": {
      "text/plain": [
       "'how are you'"
      ]
     },
     "execution_count": 10,
     "metadata": {},
     "output_type": "execute_result"
    }
   ],
   "source": [
    "str.lower(b)"
   ]
  },
  {
   "cell_type": "code",
   "execution_count": 12,
   "id": "d505ca18-1000-43a4-94b0-64b69d0485bd",
   "metadata": {},
   "outputs": [
    {
     "data": {
      "text/plain": [
       "'my name is keshav'"
      ]
     },
     "execution_count": 12,
     "metadata": {},
     "output_type": "execute_result"
    }
   ],
   "source": [
    "c= 'my name is keshav'\n",
    "c"
   ]
  },
  {
   "cell_type": "code",
   "execution_count": 16,
   "id": "88a29e6b-dfba-4a60-b8c7-9bca615f877e",
   "metadata": {},
   "outputs": [
    {
     "data": {
      "text/plain": [
       "'MY NAME IS KESHAV'"
      ]
     },
     "execution_count": 16,
     "metadata": {},
     "output_type": "execute_result"
    }
   ],
   "source": [
    "str.upper(c)"
   ]
  },
  {
   "cell_type": "code",
   "execution_count": 18,
   "id": "3b9630d8-11ed-4152-a4af-705c1fd5acad",
   "metadata": {},
   "outputs": [
    {
     "data": {
      "text/plain": [
       "'i am very intelligent'"
      ]
     },
     "execution_count": 18,
     "metadata": {},
     "output_type": "execute_result"
    }
   ],
   "source": [
    "k= 'i am very intelligent'\n",
    "k"
   ]
  },
  {
   "cell_type": "code",
   "execution_count": 22,
   "id": "37ce612d-ae59-4357-8a1c-0a31d9d08b1e",
   "metadata": {},
   "outputs": [
    {
     "data": {
      "text/plain": [
       "'I AM VERY INTELLIGENT'"
      ]
     },
     "execution_count": 22,
     "metadata": {},
     "output_type": "execute_result"
    }
   ],
   "source": [
    "str.upper(k)"
   ]
  },
  {
   "cell_type": "code",
   "execution_count": 24,
   "id": "33c1e16e-f6d0-45db-9246-7a3fbb2869f7",
   "metadata": {},
   "outputs": [
    {
     "data": {
      "text/plain": [
       "'i am very intelligent'"
      ]
     },
     "execution_count": 24,
     "metadata": {},
     "output_type": "execute_result"
    }
   ],
   "source": [
    "k"
   ]
  },
  {
   "cell_type": "code",
   "execution_count": 26,
   "id": "3bb7f6e7-7399-4a15-93ab-2a00b60adf9e",
   "metadata": {},
   "outputs": [
    {
     "data": {
      "text/plain": [
       "'I am very intelligent'"
      ]
     },
     "execution_count": 26,
     "metadata": {},
     "output_type": "execute_result"
    }
   ],
   "source": [
    "str.capitalize(k)"
   ]
  },
  {
   "cell_type": "code",
   "execution_count": 28,
   "id": "3b3cf9b9-8f1d-49e0-ada2-0c268952355f",
   "metadata": {},
   "outputs": [
    {
     "data": {
      "text/plain": [
       "'I Am Very Intelligent'"
      ]
     },
     "execution_count": 28,
     "metadata": {},
     "output_type": "execute_result"
    }
   ],
   "source": [
    "str.title(k)"
   ]
  },
  {
   "cell_type": "code",
   "execution_count": 30,
   "id": "e0670780-9ea2-4bcb-88a4-cd48a7bd876d",
   "metadata": {},
   "outputs": [
    {
     "data": {
      "text/plain": [
       "'hi SweeTY How ARe you'"
      ]
     },
     "execution_count": 30,
     "metadata": {},
     "output_type": "execute_result"
    }
   ],
   "source": [
    "s= 'hi SweeTY How ARe you'\n",
    "s"
   ]
  },
  {
   "cell_type": "code",
   "execution_count": 34,
   "id": "bd4b4f92-9218-450d-99c2-bf68c66c352d",
   "metadata": {},
   "outputs": [
    {
     "data": {
      "text/plain": [
       "'HI sWEEty hOW arE YOU'"
      ]
     },
     "execution_count": 34,
     "metadata": {},
     "output_type": "execute_result"
    }
   ],
   "source": [
    "str.swapcase(s)"
   ]
  },
  {
   "cell_type": "markdown",
   "id": "30b876a1-036d-4956-a9e9-d4e07eba0d02",
   "metadata": {},
   "source": [
    "# Stripping Whitespace"
   ]
  },
  {
   "cell_type": "raw",
   "id": "32389769-616b-49cd-ae11-b1175175f635",
   "metadata": {},
   "source": [
    "1) str.strip() it removes firts and last whitespace."
   ]
  },
  {
   "cell_type": "code",
   "execution_count": 38,
   "id": "dcdcedf4-8281-49bc-a53b-a94d9889323e",
   "metadata": {},
   "outputs": [
    {
     "data": {
      "text/plain": [
       "' i am very beautiful '"
      ]
     },
     "execution_count": 38,
     "metadata": {},
     "output_type": "execute_result"
    }
   ],
   "source": [
    "sweety= ' i am very beautiful '\n",
    "sweety"
   ]
  },
  {
   "cell_type": "code",
   "execution_count": 42,
   "id": "07cd4f4e-2e18-4264-a589-95380f0d4a86",
   "metadata": {},
   "outputs": [
    {
     "data": {
      "text/plain": [
       "'i am very beautiful'"
      ]
     },
     "execution_count": 42,
     "metadata": {},
     "output_type": "execute_result"
    }
   ],
   "source": [
    "k= str.strip(sweety)\n",
    "k"
   ]
  },
  {
   "cell_type": "code",
   "execution_count": 44,
   "id": "0abd2b78-e3a3-44bb-8023-620c981f9f0c",
   "metadata": {},
   "outputs": [
    {
     "data": {
      "text/plain": [
       "'i am very beautiful'"
      ]
     },
     "execution_count": 44,
     "metadata": {},
     "output_type": "execute_result"
    }
   ],
   "source": [
    "str.strip(k)"
   ]
  },
  {
   "cell_type": "raw",
   "id": "e8fabf5e-981d-4a26-9188-8cbe15540215",
   "metadata": {},
   "source": [
    "2) str.lstrip() it removes the left side whitespace."
   ]
  },
  {
   "cell_type": "code",
   "execution_count": 46,
   "id": "0fb1afa0-3b63-40fb-a0c5-6397cdcd6334",
   "metadata": {},
   "outputs": [
    {
     "data": {
      "text/plain": [
       "'  India is may country   '"
      ]
     },
     "execution_count": 46,
     "metadata": {},
     "output_type": "execute_result"
    }
   ],
   "source": [
    "i= '  India is may country   '\n",
    "i"
   ]
  },
  {
   "cell_type": "code",
   "execution_count": 48,
   "id": "f1cbd817-1a11-4569-8a4a-e4b0c4bdf0f2",
   "metadata": {},
   "outputs": [
    {
     "data": {
      "text/plain": [
       "'India is may country   '"
      ]
     },
     "execution_count": 48,
     "metadata": {},
     "output_type": "execute_result"
    }
   ],
   "source": [
    "str.lstrip(i)"
   ]
  },
  {
   "cell_type": "raw",
   "id": "377d7f80-0c58-4d3e-b407-7c734f893421",
   "metadata": {},
   "source": [
    "3) str.rstrip() it removes the right side whitespace."
   ]
  },
  {
   "cell_type": "code",
   "execution_count": 50,
   "id": "698718cd-90e8-4e13-a3c9-cf29c4c60e59",
   "metadata": {},
   "outputs": [
    {
     "data": {
      "text/plain": [
       "'  India is may country   '"
      ]
     },
     "execution_count": 50,
     "metadata": {},
     "output_type": "execute_result"
    }
   ],
   "source": [
    "i"
   ]
  },
  {
   "cell_type": "code",
   "execution_count": 52,
   "id": "31333fb9-7d90-49cd-80f4-b15f391c7e3e",
   "metadata": {},
   "outputs": [
    {
     "data": {
      "text/plain": [
       "'  India is may country'"
      ]
     },
     "execution_count": 52,
     "metadata": {},
     "output_type": "execute_result"
    }
   ],
   "source": [
    "str.rstrip(i)"
   ]
  },
  {
   "cell_type": "code",
   "execution_count": 54,
   "id": "6ffc930b-e0d1-443a-9324-fa81e3d7f827",
   "metadata": {},
   "outputs": [
    {
     "data": {
      "text/plain": [
       "'India is may country'"
      ]
     },
     "execution_count": 54,
     "metadata": {},
     "output_type": "execute_result"
    }
   ],
   "source": [
    "str.strip(i)"
   ]
  },
  {
   "cell_type": "markdown",
   "id": "05f04fcf-8890-4493-835d-01eba7bf0bf5",
   "metadata": {},
   "source": [
    "# Finding and replacing"
   ]
  },
  {
   "cell_type": "raw",
   "id": "7a112f1f-b0dd-4bd1-b50a-2bb5ec545fae",
   "metadata": {},
   "source": [
    "1) str.find('the required character of string') finds the index of required characters from the string.\n",
    "2) str.replace(,) requires two arguments before the coma the character which you want to remove and after the coma the character that you want to replace in place of the removed one."
   ]
  },
  {
   "cell_type": "code",
   "execution_count": 67,
   "id": "03d8df7e-0de1-46a7-90c9-ecdf30246871",
   "metadata": {},
   "outputs": [
    {
     "data": {
      "text/plain": [
       "'punks wants to learn rasingan'"
      ]
     },
     "execution_count": 67,
     "metadata": {},
     "output_type": "execute_result"
    }
   ],
   "source": [
    "p= 'punks wants to learn rasingan'\n",
    "p"
   ]
  },
  {
   "cell_type": "code",
   "execution_count": 71,
   "id": "33a29840-6390-4147-8ff0-ce02be3ed538",
   "metadata": {},
   "outputs": [
    {
     "data": {
      "text/plain": [
       "21"
      ]
     },
     "execution_count": 71,
     "metadata": {},
     "output_type": "execute_result"
    }
   ],
   "source": [
    "p.find('rasingan')"
   ]
  },
  {
   "cell_type": "code",
   "execution_count": 73,
   "id": "25d17dec-be5c-44ec-a43f-c7c82ad863d2",
   "metadata": {},
   "outputs": [
    {
     "data": {
      "text/plain": [
       "'punks wants to learn shadow_clone'"
      ]
     },
     "execution_count": 73,
     "metadata": {},
     "output_type": "execute_result"
    }
   ],
   "source": [
    "p.replace('rasingan','shadow_clone')"
   ]
  },
  {
   "cell_type": "code",
   "execution_count": 75,
   "id": "1821a51c-44d8-41a4-86e5-1bb37a5a7758",
   "metadata": {},
   "outputs": [
    {
     "data": {
      "text/plain": [
       "'  India is may country   '"
      ]
     },
     "execution_count": 75,
     "metadata": {},
     "output_type": "execute_result"
    }
   ],
   "source": [
    "i"
   ]
  },
  {
   "cell_type": "code",
   "execution_count": 81,
   "id": "e9d05d02-2648-4113-85fb-4ccc5dd59f93",
   "metadata": {},
   "outputs": [
    {
     "data": {
      "text/plain": [
       "<function str.lstrip(chars=None, /)>"
      ]
     },
     "execution_count": 81,
     "metadata": {},
     "output_type": "execute_result"
    }
   ],
   "source": [
    "i.lstrip"
   ]
  },
  {
   "cell_type": "raw",
   "id": "39625473-3a0c-41c5-b86a-fd244278db9b",
   "metadata": {},
   "source": [
    "# str.find(sub) it gives the lowest index of the string if it exists.\n",
    "# str.rfind(sub) it gives the higest index of the string if it exists.\n"
   ]
  },
  {
   "cell_type": "code",
   "execution_count": 85,
   "id": "08ed7499-6463-414e-a78c-d003b9d57fde",
   "metadata": {},
   "outputs": [
    {
     "data": {
      "text/plain": [
       "'Vishvaraj is my friend and Vishvaraj is also my classmate.'"
      ]
     },
     "execution_count": 85,
     "metadata": {},
     "output_type": "execute_result"
    }
   ],
   "source": [
    "v= 'Vishvaraj is my friend and Vishvaraj is also my classmate.'\n",
    "v"
   ]
  },
  {
   "cell_type": "code",
   "execution_count": 87,
   "id": "34ba5388-181b-4194-b6d3-ec938d942272",
   "metadata": {},
   "outputs": [
    {
     "data": {
      "text/plain": [
       "0"
      ]
     },
     "execution_count": 87,
     "metadata": {},
     "output_type": "execute_result"
    }
   ],
   "source": [
    "v.find('Vishvaraj')"
   ]
  },
  {
   "cell_type": "code",
   "execution_count": 89,
   "id": "dae68e8c-a385-4952-bf1c-786bea7fb327",
   "metadata": {},
   "outputs": [
    {
     "data": {
      "text/plain": [
       "27"
      ]
     },
     "execution_count": 89,
     "metadata": {},
     "output_type": "execute_result"
    }
   ],
   "source": [
    "v.rfind('Vishvaraj')"
   ]
  },
  {
   "cell_type": "code",
   "execution_count": 91,
   "id": "6ddda747-cafc-46d1-8e31-c13198055ac6",
   "metadata": {},
   "outputs": [
    {
     "data": {
      "text/plain": [
       "'Vishal is my friend and Vishal is also my classmate.'"
      ]
     },
     "execution_count": 91,
     "metadata": {},
     "output_type": "execute_result"
    }
   ],
   "source": [
    "v.replace('Vishvaraj','Vishal')"
   ]
  },
  {
   "cell_type": "markdown",
   "id": "63e9d516-d918-47a3-b626-b98184c4b8dd",
   "metadata": {},
   "source": [
    "# splitting and joining"
   ]
  },
  {
   "cell_type": "raw",
   "id": "f726bd5c-ebfa-46b0-a14f-7cc45de40bbb",
   "metadata": {},
   "source": [
    "1) str.split() it splits the gives string into list based on the whitespaces.\n",
    "2) str.rsplit() it splits the given string from the right based on whitespaces."
   ]
  },
  {
   "cell_type": "code",
   "execution_count": 94,
   "id": "2061205e-a08d-469d-8a16-b525b99dd3bb",
   "metadata": {},
   "outputs": [
    {
     "data": {
      "text/plain": [
       "'Vishvaraj is my friend and Vishvaraj is also my classmate.'"
      ]
     },
     "execution_count": 94,
     "metadata": {},
     "output_type": "execute_result"
    }
   ],
   "source": [
    "v"
   ]
  },
  {
   "cell_type": "code",
   "execution_count": 96,
   "id": "b89c3c05-497d-4853-9f06-28add4f236f0",
   "metadata": {},
   "outputs": [
    {
     "data": {
      "text/plain": [
       "['Vishvaraj',\n",
       " 'is',\n",
       " 'my',\n",
       " 'friend',\n",
       " 'and',\n",
       " 'Vishvaraj',\n",
       " 'is',\n",
       " 'also',\n",
       " 'my',\n",
       " 'classmate.']"
      ]
     },
     "execution_count": 96,
     "metadata": {},
     "output_type": "execute_result"
    }
   ],
   "source": [
    "v.split()"
   ]
  },
  {
   "cell_type": "code",
   "execution_count": 110,
   "id": "7583d4fc-aebc-4a9b-b504-f4c9b5980f94",
   "metadata": {},
   "outputs": [
    {
     "data": {
      "text/plain": [
       "['', 'ishvaraj is my friend and ', 'ishvaraj is also my classmate.']"
      ]
     },
     "execution_count": 110,
     "metadata": {},
     "output_type": "execute_result"
    }
   ],
   "source": [
    "v.rsplit('V')"
   ]
  },
  {
   "cell_type": "code",
   "execution_count": 112,
   "id": "165b7afd-1419-41da-8713-868f164874b2",
   "metadata": {},
   "outputs": [
    {
     "data": {
      "text/plain": [
       "['', 'ishvaraj is my friend and ', 'ishvaraj is also my classmate.']"
      ]
     },
     "execution_count": 112,
     "metadata": {},
     "output_type": "execute_result"
    }
   ],
   "source": [
    "v.split('V')"
   ]
  },
  {
   "cell_type": "raw",
   "id": "a3ac3887-d046-4d54-9705-c68a77e85d40",
   "metadata": {},
   "source": [
    "3) str.splitlines() split the string at line breaks i.e converts the whole line into one list member.\n",
    "4) str.join('character which you want to use for joining') joins the string based on the argument\n"
   ]
  },
  {
   "cell_type": "code",
   "execution_count": 114,
   "id": "7122ac40-ce55-4618-9c63-01d3652490d6",
   "metadata": {},
   "outputs": [
    {
     "data": {
      "text/plain": [
       "'Vishvaraj is my friend and Vishvaraj is also my classmate.'"
      ]
     },
     "execution_count": 114,
     "metadata": {},
     "output_type": "execute_result"
    }
   ],
   "source": [
    "v"
   ]
  },
  {
   "cell_type": "code",
   "execution_count": 118,
   "id": "a7231ef7-947f-4014-a750-c1f06c2d908e",
   "metadata": {},
   "outputs": [
    {
     "data": {
      "text/plain": [
       "['Vishvaraj is my friend and Vishvaraj is also my classmate.']"
      ]
     },
     "execution_count": 118,
     "metadata": {},
     "output_type": "execute_result"
    }
   ],
   "source": [
    "v.splitlines()"
   ]
  },
  {
   "cell_type": "code",
   "execution_count": 142,
   "id": "16348844-c15f-4c4e-9bb6-f81446c92acc",
   "metadata": {},
   "outputs": [
    {
     "data": {
      "text/plain": [
       "'Vishvaraj is my friend Vishvaraj my Classmate '"
      ]
     },
     "execution_count": 142,
     "metadata": {},
     "output_type": "execute_result"
    }
   ],
   "source": [
    "v"
   ]
  },
  {
   "cell_type": "code",
   "execution_count": 152,
   "id": "ee665e91-5a36-4ad7-85a1-cfd823055d51",
   "metadata": {},
   "outputs": [
    {
     "data": {
      "text/plain": [
       "'fVishvaraj is my friend Vishvaraj my Classmate rVishvaraj is my friend Vishvaraj my Classmate iVishvaraj is my friend Vishvaraj my Classmate eVishvaraj is my friend Vishvaraj my Classmate nVishvaraj is my friend Vishvaraj my Classmate d'"
      ]
     },
     "execution_count": 152,
     "metadata": {},
     "output_type": "execute_result"
    }
   ],
   "source": [
    "v.join('friend')"
   ]
  },
  {
   "cell_type": "markdown",
   "id": "6be9fa5e-e7ec-4abe-b2ed-8c7d57eb3838",
   "metadata": {},
   "source": [
    "# Checking Characteristics"
   ]
  },
  {
   "cell_type": "raw",
   "id": "233206e9-e95a-41b3-98d1-97c1fd567dff",
   "metadata": {},
   "source": [
    "1) str.startswith('starting character of your string') if you give the correct starting\n",
    "character then result shows True and if not then it gives Fales.\n",
    "\n",
    "2) str.endswith('ending character of your string') if you give the correct ending\n",
    "character then result shows True and if not then it gives Fales.\n",
    "\n",
    "3) str.isalpha() it checks whether all the string cahracters are alphabetic or not i.e if \n",
    "if all characters are alphabetic then True will appears in the result otherwise False will \n",
    "appers in the result.\n",
    "\n",
    "4) str.isnum() it checks whether all the characters of the string are numeric or not if all \n",
    "characters are numeric then True will appears in the result otherwise the result is False.\n",
    "\n",
    "5) str.isspace() it checks whether all the characters are null spaces or not.\n"
   ]
  },
  {
   "cell_type": "code",
   "execution_count": 22,
   "id": "2e5480d5-eac6-4fa2-8f5e-3612a473872c",
   "metadata": {},
   "outputs": [
    {
     "data": {
      "text/plain": [
       "'Keshav Mahesh Joshi'"
      ]
     },
     "execution_count": 22,
     "metadata": {},
     "output_type": "execute_result"
    }
   ],
   "source": [
    "k= 'Keshav Mahesh Joshi'\n",
    "k"
   ]
  },
  {
   "cell_type": "code",
   "execution_count": 24,
   "id": "35a31212-34df-45e0-b190-2269f549e05d",
   "metadata": {},
   "outputs": [
    {
     "data": {
      "text/plain": [
       "True"
      ]
     },
     "execution_count": 24,
     "metadata": {},
     "output_type": "execute_result"
    }
   ],
   "source": [
    "k.startswith('Keshav')"
   ]
  },
  {
   "cell_type": "code",
   "execution_count": 26,
   "id": "287e191b-928e-4357-a32f-599f37935c31",
   "metadata": {},
   "outputs": [
    {
     "data": {
      "text/plain": [
       "True"
      ]
     },
     "execution_count": 26,
     "metadata": {},
     "output_type": "execute_result"
    }
   ],
   "source": [
    "k.endswith('Joshi')"
   ]
  },
  {
   "cell_type": "code",
   "execution_count": 28,
   "id": "38299bff-bdab-4bae-b29b-ea1560ba568d",
   "metadata": {},
   "outputs": [
    {
     "data": {
      "text/plain": [
       "False"
      ]
     },
     "execution_count": 28,
     "metadata": {},
     "output_type": "execute_result"
    }
   ],
   "source": [
    "k.startswith('Mahesh')"
   ]
  },
  {
   "cell_type": "code",
   "execution_count": 30,
   "id": "11959c81-9314-46f0-a6de-afa85c8a80ed",
   "metadata": {},
   "outputs": [
    {
     "data": {
      "text/plain": [
       "False"
      ]
     },
     "execution_count": 30,
     "metadata": {},
     "output_type": "execute_result"
    }
   ],
   "source": [
    "k.endswith('Keshav')"
   ]
  },
  {
   "cell_type": "code",
   "execution_count": 32,
   "id": "0ae9480c-464c-4e53-b610-f4ae6208cfdf",
   "metadata": {},
   "outputs": [
    {
     "data": {
      "text/plain": [
       "False"
      ]
     },
     "execution_count": 32,
     "metadata": {},
     "output_type": "execute_result"
    }
   ],
   "source": [
    "k.isalpha() # here the result shows false because there are whitespaces between the characters\n",
    "#of the string\n"
   ]
  },
  {
   "cell_type": "code",
   "execution_count": 34,
   "id": "275fcd4a-f03c-492c-82ac-83d2a8a81f91",
   "metadata": {},
   "outputs": [
    {
     "data": {
      "text/plain": [
       "'keshavmaheshjoshi'"
      ]
     },
     "execution_count": 34,
     "metadata": {},
     "output_type": "execute_result"
    }
   ],
   "source": [
    "j='keshavmaheshjoshi'\n",
    "j"
   ]
  },
  {
   "cell_type": "code",
   "execution_count": 36,
   "id": "6acb311e-bdfa-4826-a6e4-8cc9a71d6e92",
   "metadata": {},
   "outputs": [
    {
     "data": {
      "text/plain": [
       "True"
      ]
     },
     "execution_count": 36,
     "metadata": {},
     "output_type": "execute_result"
    }
   ],
   "source": [
    "j.isalpha()"
   ]
  },
  {
   "cell_type": "code",
   "execution_count": 46,
   "id": "2ff55c54-80bd-4793-9c24-26ec622499d3",
   "metadata": {},
   "outputs": [
    {
     "data": {
      "text/plain": [
       "'512'"
      ]
     },
     "execution_count": 46,
     "metadata": {},
     "output_type": "execute_result"
    }
   ],
   "source": [
    "m='512'\n",
    "m"
   ]
  },
  {
   "cell_type": "code",
   "execution_count": 52,
   "id": "99d8f522-a82f-4768-b914-1f889537c4a3",
   "metadata": {},
   "outputs": [
    {
     "data": {
      "text/plain": [
       "True"
      ]
     },
     "execution_count": 52,
     "metadata": {},
     "output_type": "execute_result"
    }
   ],
   "source": [
    "m.isdigit()"
   ]
  },
  {
   "cell_type": "code",
   "execution_count": 54,
   "id": "ac2ae7fc-c9b8-4a58-8657-5584da08a4ff",
   "metadata": {},
   "outputs": [
    {
     "data": {
      "text/plain": [
       "False"
      ]
     },
     "execution_count": 54,
     "metadata": {},
     "output_type": "execute_result"
    }
   ],
   "source": [
    "p='k52'# here the string is mixed type not only numeric hence result give False\n",
    "p\n",
    "p.isdigit()"
   ]
  },
  {
   "cell_type": "code",
   "execution_count": 56,
   "id": "002251fd-5b97-45d1-9611-ce84a9196135",
   "metadata": {},
   "outputs": [
    {
     "data": {
      "text/plain": [
       "'k52'"
      ]
     },
     "execution_count": 56,
     "metadata": {},
     "output_type": "execute_result"
    }
   ],
   "source": [
    "p"
   ]
  },
  {
   "cell_type": "code",
   "execution_count": 58,
   "id": "f91dc014-3e07-4372-956d-1e07fe250065",
   "metadata": {},
   "outputs": [
    {
     "data": {
      "text/plain": [
       "True"
      ]
     },
     "execution_count": 58,
     "metadata": {},
     "output_type": "execute_result"
    }
   ],
   "source": [
    "p.isalnum()# this gives True result because the string is mixed type"
   ]
  },
  {
   "cell_type": "code",
   "execution_count": 62,
   "id": "7aa3bb6f-3426-47a0-b7e0-18863a04961c",
   "metadata": {},
   "outputs": [
    {
     "data": {
      "text/plain": [
       "True"
      ]
     },
     "execution_count": 62,
     "metadata": {},
     "output_type": "execute_result"
    }
   ],
   "source": [
    "b='    '\n",
    "b\n",
    "b.isspace()"
   ]
  },
  {
   "cell_type": "code",
   "execution_count": 66,
   "id": "cd499a20-eab6-49d2-abc6-674242ca56f4",
   "metadata": {},
   "outputs": [
    {
     "data": {
      "text/plain": [
       "False"
      ]
     },
     "execution_count": 66,
     "metadata": {},
     "output_type": "execute_result"
    }
   ],
   "source": [
    "v='' # this will give False in result because there is no any space available.\n",
    "v\n",
    "v.isspace()"
   ]
  },
  {
   "cell_type": "code",
   "execution_count": null,
   "id": "08e8c469-bd46-46ea-822f-055b162a4c21",
   "metadata": {},
   "outputs": [],
   "source": []
  }
 ],
 "metadata": {
  "kernelspec": {
   "display_name": "Python 3 (ipykernel)",
   "language": "python",
   "name": "python3"
  },
  "language_info": {
   "codemirror_mode": {
    "name": "ipython",
    "version": 3
   },
   "file_extension": ".py",
   "mimetype": "text/x-python",
   "name": "python",
   "nbconvert_exporter": "python",
   "pygments_lexer": "ipython3",
   "version": "3.12.4"
  }
 },
 "nbformat": 4,
 "nbformat_minor": 5
}
