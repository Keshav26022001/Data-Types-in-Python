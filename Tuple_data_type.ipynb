{
 "cells": [
  {
   "cell_type": "markdown",
   "id": "888b34eb-2c7e-4c71-9127-676cb0c74153",
   "metadata": {},
   "source": [
    "# Tuples\n",
    "Tuples are used to store multiple items in a single variable.\r\n",
    "\r\n",
    "Tuple is one of 4 built-in data types in Python used to store collections of data, the other 3 are List, Set, and Dictionary, all with different qualities and usage.\r\n",
    "\r\n",
    "A tuple is a collection which is ordered and unchangeable.\r\n",
    "\r\n",
    "Tuples are written with round brackets."
   ]
  },
  {
   "cell_type": "markdown",
   "id": "9b38112a-3572-4d5e-937b-4b8244e5c825",
   "metadata": {},
   "source": [
    "a=(4,5)\n",
    "print(a)\n",
    "type(a)"
   ]
  },
  {
   "cell_type": "code",
   "execution_count": 11,
   "id": "f4077f91-a674-469a-b310-e9e376ff8e75",
   "metadata": {},
   "outputs": [
    {
     "name": "stdout",
     "output_type": "stream",
     "text": [
      "('keshav', 'mahesh', 'joshi', 5)\n"
     ]
    },
    {
     "data": {
      "text/plain": [
       "tuple"
      ]
     },
     "execution_count": 11,
     "metadata": {},
     "output_type": "execute_result"
    }
   ],
   "source": [
    "b=('keshav','mahesh','joshi',5)\n",
    "print(b)\n",
    "type(b)"
   ]
  },
  {
   "cell_type": "markdown",
   "id": "027138cf-926b-44e9-a502-1e5ad1b96c75",
   "metadata": {},
   "source": [
    "# Access Tuple Items\n",
    "You can access tuple items by giving the index number, inside square brackets.\n"
   ]
  },
  {
   "cell_type": "code",
   "execution_count": 14,
   "id": "a1f07647-80f2-430a-87c4-4aecc5e76bfc",
   "metadata": {},
   "outputs": [
    {
     "name": "stdout",
     "output_type": "stream",
     "text": [
      "('keshav', 'mahesh', 'joshi', 5)\n"
     ]
    },
    {
     "data": {
      "text/plain": [
       "'keshav'"
      ]
     },
     "execution_count": 14,
     "metadata": {},
     "output_type": "execute_result"
    }
   ],
   "source": [
    "print(b)\n",
    "b[0]"
   ]
  },
  {
   "cell_type": "code",
   "execution_count": 16,
   "id": "c4037235-2bf0-4959-95a9-4b44d38bff36",
   "metadata": {},
   "outputs": [
    {
     "data": {
      "text/plain": [
       "'mahesh'"
      ]
     },
     "execution_count": 16,
     "metadata": {},
     "output_type": "execute_result"
    }
   ],
   "source": [
    "b[1]"
   ]
  },
  {
   "cell_type": "code",
   "execution_count": 18,
   "id": "4d0ab620-453a-4228-a4fd-3314beb85916",
   "metadata": {},
   "outputs": [
    {
     "data": {
      "text/plain": [
       "'joshi'"
      ]
     },
     "execution_count": 18,
     "metadata": {},
     "output_type": "execute_result"
    }
   ],
   "source": [
    "b[2]"
   ]
  },
  {
   "cell_type": "code",
   "execution_count": 20,
   "id": "1ceb9c14-7197-4a32-9ac2-c0f7ad0ce89d",
   "metadata": {},
   "outputs": [
    {
     "data": {
      "text/plain": [
       "5"
      ]
     },
     "execution_count": 20,
     "metadata": {},
     "output_type": "execute_result"
    }
   ],
   "source": [
    "b[3]"
   ]
  },
  {
   "cell_type": "code",
   "execution_count": 24,
   "id": "93e6eb55-4180-4584-8c00-0da2d2f4c25c",
   "metadata": {},
   "outputs": [
    {
     "ename": "IndexError",
     "evalue": "tuple index out of range",
     "output_type": "error",
     "traceback": [
      "\u001b[1;31m---------------------------------------------------------------------------\u001b[0m",
      "\u001b[1;31mIndexError\u001b[0m                                Traceback (most recent call last)",
      "Cell \u001b[1;32mIn[24], line 1\u001b[0m\n\u001b[1;32m----> 1\u001b[0m b[\u001b[38;5;241m4\u001b[39m]\n",
      "\u001b[1;31mIndexError\u001b[0m: tuple index out of range"
     ]
    }
   ],
   "source": [
    "b[4] # It will shows the index error, because the index given in the input is not \n",
    "# available in the given tuple."
   ]
  },
  {
   "cell_type": "code",
   "execution_count": 26,
   "id": "ed4c66a3-7d38-4e0f-b97c-9a818c827f2d",
   "metadata": {},
   "outputs": [
    {
     "name": "stdout",
     "output_type": "stream",
     "text": [
      "('keshav', 'mahesh', 'joshi', 5)\n"
     ]
    },
    {
     "data": {
      "text/plain": [
       "('keshav', 'mahesh', 'joshi', 5)"
      ]
     },
     "execution_count": 26,
     "metadata": {},
     "output_type": "execute_result"
    }
   ],
   "source": [
    "print(b)\n",
    "b[0:5]"
   ]
  },
  {
   "cell_type": "code",
   "execution_count": 28,
   "id": "d507d9ae-fa67-4516-a111-cc44aa57fc08",
   "metadata": {},
   "outputs": [
    {
     "data": {
      "text/plain": [
       "('keshav', 'mahesh', 'joshi', 5)"
      ]
     },
     "execution_count": 28,
     "metadata": {},
     "output_type": "execute_result"
    }
   ],
   "source": [
    "b[:]"
   ]
  },
  {
   "cell_type": "markdown",
   "id": "b2085b94-a6e3-41a3-80d9-7e25188e97ec",
   "metadata": {},
   "source": [
    "# Let's try the slicing is working or not on the tuple.\n",
    "in the slicing the arguments are , tuple[satrting index : ending index : step]."
   ]
  },
  {
   "cell_type": "code",
   "execution_count": 31,
   "id": "70f8a99b-8f46-4d42-844c-6b926bc87e12",
   "metadata": {},
   "outputs": [
    {
     "data": {
      "text/plain": [
       "('keshav', 'joshi')"
      ]
     },
     "execution_count": 31,
     "metadata": {},
     "output_type": "execute_result"
    }
   ],
   "source": [
    "b[0:4:2]"
   ]
  },
  {
   "cell_type": "code",
   "execution_count": 35,
   "id": "1164ca1d-cc09-4a87-975f-896702d2db0d",
   "metadata": {},
   "outputs": [
    {
     "name": "stdout",
     "output_type": "stream",
     "text": [
      "(4, 5)\n"
     ]
    },
    {
     "data": {
      "text/plain": [
       "(4,)"
      ]
     },
     "execution_count": 35,
     "metadata": {},
     "output_type": "execute_result"
    }
   ],
   "source": [
    "# let's try another example\n",
    "print(a)\n",
    "a[0:2:2]"
   ]
  },
  {
   "cell_type": "markdown",
   "id": "b5a8b76a-e1f8-49c2-9fbc-7054959b388c",
   "metadata": {},
   "source": [
    "# A tuple is a collection which is ordered and unchangeable.\n"
   ]
  },
  {
   "cell_type": "code",
   "execution_count": 39,
   "id": "2318a538-33ea-4ebd-99e2-a6d4d4ba662f",
   "metadata": {},
   "outputs": [
    {
     "name": "stdout",
     "output_type": "stream",
     "text": [
      "('dsjalksd', 'hwadsuj', 'wijs', 'uw', 'llk', 543, 845, 45, 2)\n"
     ]
    },
    {
     "data": {
      "text/plain": [
       "9"
      ]
     },
     "execution_count": 39,
     "metadata": {},
     "output_type": "execute_result"
    }
   ],
   "source": [
    "k=('dsjalksd','hwadsuj','wijs','uw','llk',543,845,45,2)\n",
    "print(k)\n",
    "len(k)"
   ]
  },
  {
   "cell_type": "code",
   "execution_count": 41,
   "id": "296c7b75-8aec-4643-9fbe-51255df09855",
   "metadata": {},
   "outputs": [
    {
     "ename": "AttributeError",
     "evalue": "'tuple' object has no attribute 'append'",
     "output_type": "error",
     "traceback": [
      "\u001b[1;31m---------------------------------------------------------------------------\u001b[0m",
      "\u001b[1;31mAttributeError\u001b[0m                            Traceback (most recent call last)",
      "Cell \u001b[1;32mIn[41], line 1\u001b[0m\n\u001b[1;32m----> 1\u001b[0m k\u001b[38;5;241m.\u001b[39mappend(\u001b[38;5;241m26\u001b[39m)\n",
      "\u001b[1;31mAttributeError\u001b[0m: 'tuple' object has no attribute 'append'"
     ]
    }
   ],
   "source": [
    "k.append(26)"
   ]
  },
  {
   "cell_type": "code",
   "execution_count": 43,
   "id": "c96fc2fe-1438-4cb9-9470-ade89fb462fd",
   "metadata": {},
   "outputs": [
    {
     "ename": "AttributeError",
     "evalue": "'tuple' object has no attribute 'insert'",
     "output_type": "error",
     "traceback": [
      "\u001b[1;31m---------------------------------------------------------------------------\u001b[0m",
      "\u001b[1;31mAttributeError\u001b[0m                            Traceback (most recent call last)",
      "Cell \u001b[1;32mIn[43], line 1\u001b[0m\n\u001b[1;32m----> 1\u001b[0m k\u001b[38;5;241m.\u001b[39minsert(\u001b[38;5;241m0\u001b[39m,\u001b[38;5;124m'\u001b[39m\u001b[38;5;124mprathamesh\u001b[39m\u001b[38;5;124m'\u001b[39m)\n",
      "\u001b[1;31mAttributeError\u001b[0m: 'tuple' object has no attribute 'insert'"
     ]
    }
   ],
   "source": [
    "k.insert(0,'prathamesh')"
   ]
  },
  {
   "cell_type": "code",
   "execution_count": 45,
   "id": "6650d742-eb4b-4bc1-b17e-02c34f8d472a",
   "metadata": {},
   "outputs": [
    {
     "ename": "AttributeError",
     "evalue": "'tuple' object has no attribute 'extend'",
     "output_type": "error",
     "traceback": [
      "\u001b[1;31m---------------------------------------------------------------------------\u001b[0m",
      "\u001b[1;31mAttributeError\u001b[0m                            Traceback (most recent call last)",
      "Cell \u001b[1;32mIn[45], line 1\u001b[0m\n\u001b[1;32m----> 1\u001b[0m k\u001b[38;5;241m.\u001b[39mextend(\u001b[38;5;28mrange\u001b[39m(\u001b[38;5;241m3\u001b[39m))\n",
      "\u001b[1;31mAttributeError\u001b[0m: 'tuple' object has no attribute 'extend'"
     ]
    }
   ],
   "source": [
    "k.extend(range(3))"
   ]
  },
  {
   "cell_type": "raw",
   "id": "c9a71fd2-bbf8-44d6-8eda-cf5179212ba2",
   "metadata": {},
   "source": [
    "\n",
    "The above all errors are due to the property of 'Tuple' data type. That is the 'Tuple' is immutable that menas you cannot make changes in the tuple onece it is defined.\n",
    "There is one way to make changes in tuples which is , convert the tuples into lists and make changes in the list and after changes again convert that lists into tuples.\n"
   ]
  },
  {
   "cell_type": "code",
   "execution_count": 47,
   "id": "0dfaef12-5960-481f-8481-b8d3bb4f30af",
   "metadata": {},
   "outputs": [
    {
     "name": "stdout",
     "output_type": "stream",
     "text": [
      "('dsjalksd', 'hwadsuj', 'wijs', 'uw', 'llk', 543, 845, 45, 2)\n",
      "['dsjalksd', 'hwadsuj', 'wijs', 'uw', 'llk', 543, 845, 45, 2]\n"
     ]
    }
   ],
   "source": [
    "print(k)\n",
    "k=list(k)\n",
    "print(k)"
   ]
  },
  {
   "cell_type": "code",
   "execution_count": 49,
   "id": "e4328607-29f2-45e3-84f1-7079e229a686",
   "metadata": {},
   "outputs": [
    {
     "data": {
      "text/plain": [
       "['dsjalksd', 'hwadsuj', 'wijs', 'uw', 'llk', 543, 845, 45, 2, 26]"
      ]
     },
     "execution_count": 49,
     "metadata": {},
     "output_type": "execute_result"
    }
   ],
   "source": [
    "# now the tuple 'k' is coverted into the list now you can make all the changes as per your\n",
    "#  requirement.\n",
    "k.append(26)\n",
    "k"
   ]
  },
  {
   "cell_type": "code",
   "execution_count": 55,
   "id": "49f060ca-c804-4b50-a16f-54a40e764f1a",
   "metadata": {},
   "outputs": [
    {
     "data": {
      "text/plain": [
       "['dsjalksd',\n",
       " 'hwadsuj',\n",
       " 'wijs',\n",
       " 'uw',\n",
       " 'llk',\n",
       " 543,\n",
       " 845,\n",
       " 45,\n",
       " 2,\n",
       " 26,\n",
       " 'keshav',\n",
       " 'mahesh',\n",
       " 'joshi',\n",
       " 5]"
      ]
     },
     "execution_count": 55,
     "metadata": {},
     "output_type": "execute_result"
    }
   ],
   "source": [
    "k.extend(b)\n",
    "k"
   ]
  },
  {
   "cell_type": "code",
   "execution_count": 57,
   "id": "04d09cc1-1e29-4f6e-a14f-f89be326314b",
   "metadata": {},
   "outputs": [
    {
     "data": {
      "text/plain": [
       "['dsjalksd',\n",
       " 'hwadsuj',\n",
       " 'wijs',\n",
       " 'uw',\n",
       " 'llk',\n",
       " 543,\n",
       " 845,\n",
       " 45,\n",
       " 2,\n",
       " 26,\n",
       " 'keshav',\n",
       " 'mahesh',\n",
       " 'joshi',\n",
       " 5,\n",
       " 0,\n",
       " 1,\n",
       " 2]"
      ]
     },
     "execution_count": 57,
     "metadata": {},
     "output_type": "execute_result"
    }
   ],
   "source": [
    "k.extend(range(3))\n",
    "k"
   ]
  },
  {
   "cell_type": "raw",
   "id": "7850b46b-ce35-42a5-809f-8cbaaa70305b",
   "metadata": {},
   "source": [
    "now covert the list into tuple if all changes are done"
   ]
  },
  {
   "cell_type": "code",
   "execution_count": 59,
   "id": "144df06a-1e18-4776-ae0f-6d1251badf70",
   "metadata": {},
   "outputs": [
    {
     "name": "stdout",
     "output_type": "stream",
     "text": [
      "('dsjalksd', 'hwadsuj', 'wijs', 'uw', 'llk', 543, 845, 45, 2, 26, 'keshav', 'mahesh', 'joshi', 5, 0, 1, 2)\n"
     ]
    }
   ],
   "source": [
    "k=tuple(k)\n",
    "print(k)"
   ]
  },
  {
   "cell_type": "code",
   "execution_count": 61,
   "id": "37cf3d60-4b6c-429e-9f60-a81f9b20f730",
   "metadata": {},
   "outputs": [
    {
     "data": {
      "text/plain": [
       "tuple"
      ]
     },
     "execution_count": 61,
     "metadata": {},
     "output_type": "execute_result"
    }
   ],
   "source": [
    "type(k)"
   ]
  },
  {
   "cell_type": "markdown",
   "id": "5cd693e2-7808-440f-92d3-690acd84c373",
   "metadata": {},
   "source": [
    "# Unpacking a Tuple\n",
    "When we create a tuple, we normally assign values to it. This is called \"packing\" a tuple\n",
    "But, in Python, we are also allowed to extract the values back into variables. This is called \"unpacking\"\r\n",
    "\r\n",
    "\r\n",
    "\r\n",
    "\r\n"
   ]
  },
  {
   "cell_type": "code",
   "execution_count": 64,
   "id": "4f6fd182-62f5-4619-a9f3-c4cd5976a02b",
   "metadata": {},
   "outputs": [
    {
     "name": "stdout",
     "output_type": "stream",
     "text": [
      "('keshav', 'mahesh', 'joshi', 5.6, 'feb', 241, 'second', 8754, 22)\n"
     ]
    }
   ],
   "source": [
    "# let's define the tuple that means we are doing packing of the values into the variable\n",
    "tuple_1=(\"keshav\",\"mahesh\",\"joshi\",5.6,\"feb\",241,\"second\",8754,22)\n",
    "print(tuple_1)\n"
   ]
  },
  {
   "cell_type": "code",
   "execution_count": 66,
   "id": "6f3135c0-309a-4664-990c-8a3010d49efa",
   "metadata": {},
   "outputs": [],
   "source": [
    "# let's understand the unpacking of the tupple. \n",
    "(first_name, midle_name, last_name, float, month, int_241, num, int_8754, int_22)= tuple_1\n"
   ]
  },
  {
   "cell_type": "code",
   "execution_count": 68,
   "id": "68dee5a6-3415-4c9d-8867-ee6ef981d524",
   "metadata": {},
   "outputs": [
    {
     "name": "stdout",
     "output_type": "stream",
     "text": [
      "keshav\n"
     ]
    }
   ],
   "source": [
    "# calling for the first_name\n",
    "print(first_name)"
   ]
  },
  {
   "cell_type": "code",
   "execution_count": 70,
   "id": "ffca28ae-1fcb-4103-a7b8-11b92259ff9d",
   "metadata": {},
   "outputs": [
    {
     "name": "stdout",
     "output_type": "stream",
     "text": [
      "mahesh\n"
     ]
    }
   ],
   "source": [
    "print(midle_name)"
   ]
  },
  {
   "cell_type": "code",
   "execution_count": 72,
   "id": "077b4881-32ad-4f75-a04e-87616ec35d11",
   "metadata": {},
   "outputs": [
    {
     "name": "stdout",
     "output_type": "stream",
     "text": [
      "joshi\n"
     ]
    }
   ],
   "source": [
    "print(last_name)"
   ]
  },
  {
   "cell_type": "code",
   "execution_count": 74,
   "id": "40be1b52-da38-4842-a8d8-eaf4ac5662a9",
   "metadata": {},
   "outputs": [
    {
     "name": "stdout",
     "output_type": "stream",
     "text": [
      "8754\n"
     ]
    }
   ],
   "source": [
    "print(int_8754)"
   ]
  },
  {
   "cell_type": "markdown",
   "id": "e6b71c99-0548-4285-884b-c6ecd2c455c2",
   "metadata": {},
   "source": [
    "# Join Two Tuples\n",
    "To join two or more tuples you can use the + operator:\r\n",
    "\r\n"
   ]
  },
  {
   "cell_type": "code",
   "execution_count": 84,
   "id": "54f842de-bd6b-405b-8743-56913c9e83e3",
   "metadata": {},
   "outputs": [
    {
     "name": "stdout",
     "output_type": "stream",
     "text": [
      "('keshav', 'mahesh', 'joshi', 5.6, 'feb', 241, 'second', 8754, 22)\n",
      "('nokia', 'samsung', 'vivo', 'oppo', 'lenovo', 'motorola', 'redmi', 'realme')\n"
     ]
    }
   ],
   "source": [
    "print(tuple_1)\n",
    "tuple_2=('nokia','samsung','vivo','oppo','lenovo','motorola','redmi','realme')\n",
    "print(tuple_2)\n"
   ]
  },
  {
   "cell_type": "code",
   "execution_count": 86,
   "id": "7f6248e1-f9cf-4eff-8870-5f1a3f5ace81",
   "metadata": {},
   "outputs": [
    {
     "name": "stdout",
     "output_type": "stream",
     "text": [
      "('keshav', 'mahesh', 'joshi', 5.6, 'feb', 241, 'second', 8754, 22, 'nokia', 'samsung', 'vivo', 'oppo', 'lenovo', 'motorola', 'redmi', 'realme')\n"
     ]
    }
   ],
   "source": [
    "print(tuple_1+tuple_2)"
   ]
  },
  {
   "cell_type": "markdown",
   "id": "fb630311-734d-4dd3-9d9a-ae4101dc7c11",
   "metadata": {},
   "source": [
    "# Multiply Tuples\n",
    "If you want to multiply the items of a tuple a given number of times, you can use the * operator:\n",
    "\n"
   ]
  },
  {
   "cell_type": "code",
   "execution_count": 95,
   "id": "f6ecd57c-a576-4ac2-ad4a-7bdc96de4ba3",
   "metadata": {},
   "outputs": [
    {
     "name": "stdout",
     "output_type": "stream",
     "text": [
      "('nokia', 'samsung', 'vivo', 'oppo', 'lenovo', 'motorola', 'redmi', 'realme', 'nokia', 'samsung', 'vivo', 'oppo', 'lenovo', 'motorola', 'redmi', 'realme')\n"
     ]
    }
   ],
   "source": [
    "print(tuple_2*2) # it will prints the each element of given tuple twice. "
   ]
  },
  {
   "cell_type": "markdown",
   "id": "1429f23c-e87b-4a4c-b4e4-37b3ac49cb25",
   "metadata": {},
   "source": [
    "# Tuple Methods\n",
    "Python has two built-in methods that you can use on tuples.\n",
    "1) count( ). Returns the number of times a specified value occurs in a tuple \n",
    "2) index( ). Searches the tuple for a specified value and returns the position of where it was found \n"
   ]
  },
  {
   "cell_type": "code",
   "execution_count": 106,
   "id": "9959b6cd-2c83-47ec-b8a9-bfb8aba8801d",
   "metadata": {},
   "outputs": [
    {
     "data": {
      "text/plain": [
       "('nokia', 'samsung', 'vivo', 'oppo', 'lenovo', 'motorola', 'redmi', 'realme')"
      ]
     },
     "execution_count": 106,
     "metadata": {},
     "output_type": "execute_result"
    }
   ],
   "source": [
    "tuple_2"
   ]
  },
  {
   "cell_type": "code",
   "execution_count": 110,
   "id": "0d27b738-b6a6-4f18-b89b-d3c59192ccd8",
   "metadata": {},
   "outputs": [
    {
     "data": {
      "text/plain": [
       "1"
      ]
     },
     "execution_count": 110,
     "metadata": {},
     "output_type": "execute_result"
    }
   ],
   "source": [
    "tuple_2.count('nokia')"
   ]
  },
  {
   "cell_type": "code",
   "execution_count": 112,
   "id": "4b9a166a-60c0-4924-acd1-cf95279158ba",
   "metadata": {},
   "outputs": [
    {
     "data": {
      "text/plain": [
       "1"
      ]
     },
     "execution_count": 112,
     "metadata": {},
     "output_type": "execute_result"
    }
   ],
   "source": [
    "tuple_2.count('vivo')"
   ]
  },
  {
   "cell_type": "code",
   "execution_count": 114,
   "id": "4f39a8a4-d51f-47b1-aeaa-9f837629d539",
   "metadata": {},
   "outputs": [
    {
     "data": {
      "text/plain": [
       "0"
      ]
     },
     "execution_count": 114,
     "metadata": {},
     "output_type": "execute_result"
    }
   ],
   "source": [
    "tuple_2.count('kj')"
   ]
  },
  {
   "cell_type": "code",
   "execution_count": 116,
   "id": "6886fb2e-81de-491a-aa20-93a0d522441f",
   "metadata": {},
   "outputs": [
    {
     "data": {
      "text/plain": [
       "2"
      ]
     },
     "execution_count": 116,
     "metadata": {},
     "output_type": "execute_result"
    }
   ],
   "source": [
    "tuple_2.index('vivo')"
   ]
  },
  {
   "cell_type": "code",
   "execution_count": 118,
   "id": "d38239e9-0119-4141-91b0-9bf6f7b7a0e3",
   "metadata": {},
   "outputs": [
    {
     "data": {
      "text/plain": [
       "7"
      ]
     },
     "execution_count": 118,
     "metadata": {},
     "output_type": "execute_result"
    }
   ],
   "source": [
    "tuple_2.index('realme')"
   ]
  },
  {
   "cell_type": "code",
   "execution_count": 120,
   "id": "f2e122a9-59c2-4c60-8a7a-fddb45a62fde",
   "metadata": {},
   "outputs": [
    {
     "ename": "AttributeError",
     "evalue": "'tuple' object has no attribute 'clear'",
     "output_type": "error",
     "traceback": [
      "\u001b[1;31m---------------------------------------------------------------------------\u001b[0m",
      "\u001b[1;31mAttributeError\u001b[0m                            Traceback (most recent call last)",
      "Cell \u001b[1;32mIn[120], line 1\u001b[0m\n\u001b[1;32m----> 1\u001b[0m tuple_2\u001b[38;5;241m.\u001b[39mclear()\n",
      "\u001b[1;31mAttributeError\u001b[0m: 'tuple' object has no attribute 'clear'"
     ]
    }
   ],
   "source": [
    "tuple_2.clear() # tuple does not supports the clear method."
   ]
  },
  {
   "cell_type": "code",
   "execution_count": 124,
   "id": "9206d31c-516e-4246-8558-f4f238ed854e",
   "metadata": {},
   "outputs": [],
   "source": [
    "del tuple_2 #deleting tuple"
   ]
  },
  {
   "cell_type": "code",
   "execution_count": 126,
   "id": "ffec020b-c5b0-4f62-8988-873ea3a98ef8",
   "metadata": {},
   "outputs": [
    {
     "ename": "NameError",
     "evalue": "name 'tuple_2' is not defined",
     "output_type": "error",
     "traceback": [
      "\u001b[1;31m---------------------------------------------------------------------------\u001b[0m",
      "\u001b[1;31mNameError\u001b[0m                                 Traceback (most recent call last)",
      "Cell \u001b[1;32mIn[126], line 1\u001b[0m\n\u001b[1;32m----> 1\u001b[0m tuple_2\n",
      "\u001b[1;31mNameError\u001b[0m: name 'tuple_2' is not defined"
     ]
    }
   ],
   "source": [
    "tuple_2"
   ]
  },
  {
   "cell_type": "code",
   "execution_count": null,
   "id": "90024698-7be7-4607-93db-a20b8b084683",
   "metadata": {},
   "outputs": [],
   "source": []
  }
 ],
 "metadata": {
  "kernelspec": {
   "display_name": "Python 3 (ipykernel)",
   "language": "python",
   "name": "python3"
  },
  "language_info": {
   "codemirror_mode": {
    "name": "ipython",
    "version": 3
   },
   "file_extension": ".py",
   "mimetype": "text/x-python",
   "name": "python",
   "nbconvert_exporter": "python",
   "pygments_lexer": "ipython3",
   "version": "3.12.4"
  }
 },
 "nbformat": 4,
 "nbformat_minor": 5
}
