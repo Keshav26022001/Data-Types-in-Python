{
 "cells": [
  {
   "cell_type": "markdown",
   "id": "b560ab59-250d-49cb-b095-e68daa9e3bee",
   "metadata": {},
   "source": [
    "# Area of circle"
   ]
  },
  {
   "cell_type": "code",
   "execution_count": 6,
   "id": "625b7945-ff5a-476a-a894-7326b2a0f9da",
   "metadata": {},
   "outputs": [
    {
     "name": "stdin",
     "output_type": "stream",
     "text": [
      "enter the radius of circle 3.2\n"
     ]
    },
    {
     "data": {
      "text/plain": [
       "32.174080000000004"
      ]
     },
     "execution_count": 6,
     "metadata": {},
     "output_type": "execute_result"
    }
   ],
   "source": [
    "radius=float(input(\"enter the radius of circle\"))\n",
    "area_of_circle=3.142*radius**2\n",
    "area_of_circle"
   ]
  },
  {
   "cell_type": "markdown",
   "id": "3094052c-8fb6-4c2c-93ad-40e11f70db8c",
   "metadata": {},
   "source": [
    "# Area of semicircle"
   ]
  },
  {
   "cell_type": "code",
   "execution_count": 9,
   "id": "d9631266-b29b-4da3-8b84-d9fa176ed773",
   "metadata": {},
   "outputs": [
    {
     "name": "stdin",
     "output_type": "stream",
     "text": [
      "enter the radius of circle 3.2\n"
     ]
    },
    {
     "data": {
      "text/plain": [
       "16.087040000000002"
      ]
     },
     "execution_count": 9,
     "metadata": {},
     "output_type": "execute_result"
    }
   ],
   "source": [
    "radius=float(input(\"enter the radius of circle\"))\n",
    "area_of_semicircle=1/2*area_of_circle\n",
    "area_of_semicircle"
   ]
  },
  {
   "cell_type": "markdown",
   "id": "ae3caf1d-ec88-4bb2-a833-f87e8b7a2082",
   "metadata": {},
   "source": [
    "# Area of Oval"
   ]
  },
  {
   "cell_type": "code",
   "execution_count": 12,
   "id": "66101a75-b039-4175-a4ce-8333c6b81c16",
   "metadata": {},
   "outputs": [
    {
     "name": "stdin",
     "output_type": "stream",
     "text": [
      "enter major radius 5.5\n",
      "enter minor radius 2.5\n"
     ]
    },
    {
     "data": {
      "text/plain": [
       "43.2025"
      ]
     },
     "execution_count": 12,
     "metadata": {},
     "output_type": "execute_result"
    }
   ],
   "source": [
    "major_radius=float(input(\"enter major radius\"))\n",
    "minor_radius=float(input('enter minor radius'))\n",
    "area_of_oval=3.142*major_radius*minor_radius\n",
    "area_of_oval"
   ]
  },
  {
   "cell_type": "markdown",
   "id": "baf12ca6-8099-4f24-a64c-1bc4b41e742c",
   "metadata": {},
   "source": [
    "# Area of Triangle"
   ]
  },
  {
   "cell_type": "code",
   "execution_count": 15,
   "id": "667c2ef1-159d-410d-b023-64c976de8f81",
   "metadata": {},
   "outputs": [
    {
     "name": "stdin",
     "output_type": "stream",
     "text": [
      "enter base length 26\n",
      "enter height 11\n"
     ]
    },
    {
     "data": {
      "text/plain": [
       "143.0"
      ]
     },
     "execution_count": 15,
     "metadata": {},
     "output_type": "execute_result"
    }
   ],
   "source": [
    "base=float(input(\"enter base length\"))\n",
    "height=float(input(\"enter height\"))\n",
    "area_of_triangle=1/2*base*height\n",
    "area_of_triangle"
   ]
  },
  {
   "cell_type": "markdown",
   "id": "5712d4a9-3d06-452d-be52-bbe603b1f675",
   "metadata": {},
   "source": [
    "# Area of Square"
   ]
  },
  {
   "cell_type": "code",
   "execution_count": 18,
   "id": "81ad157e-85ef-41f4-9ac5-0f2e3c6a174e",
   "metadata": {},
   "outputs": [
    {
     "name": "stdin",
     "output_type": "stream",
     "text": [
      "enter length of any side 25\n"
     ]
    },
    {
     "data": {
      "text/plain": [
       "625.0"
      ]
     },
     "execution_count": 18,
     "metadata": {},
     "output_type": "execute_result"
    }
   ],
   "source": [
    "side_length=float(input(\"enter length of any side\"))\n",
    "area_of_square=side_length**2\n",
    "area_of_square"
   ]
  },
  {
   "cell_type": "markdown",
   "id": "91ef937c-84c5-451b-928b-a7fb9edc460e",
   "metadata": {},
   "source": [
    "# Area of Rectangle"
   ]
  },
  {
   "cell_type": "code",
   "execution_count": 21,
   "id": "fd0db49a-25ba-46ba-9e26-cd21816ea996",
   "metadata": {},
   "outputs": [
    {
     "name": "stdin",
     "output_type": "stream",
     "text": [
      "enter the length of rectangle 23\n",
      "enter the bredth of rectangle 15\n"
     ]
    },
    {
     "data": {
      "text/plain": [
       "345.0"
      ]
     },
     "execution_count": 21,
     "metadata": {},
     "output_type": "execute_result"
    }
   ],
   "source": [
    "length=float(input(\"enter the length of rectangle\"))\n",
    "bredth=float(input(\"enter the bredth of rectangle\"))\n",
    "area_of_rectangle=length*bredth\n",
    "area_of_rectangle"
   ]
  },
  {
   "cell_type": "markdown",
   "id": "9b77b52a-fba1-40ea-8045-a3cf0703b18f",
   "metadata": {},
   "source": [
    "# Area of Parallelogram"
   ]
  },
  {
   "cell_type": "code",
   "execution_count": 24,
   "id": "4334602b-2574-4409-80a4-43584fc608a2",
   "metadata": {},
   "outputs": [
    {
     "name": "stdin",
     "output_type": "stream",
     "text": [
      "enter the base of the parallelogram 5.3\n",
      "enter the height of the parallelogram 6.8\n"
     ]
    },
    {
     "data": {
      "text/plain": [
       "36.04"
      ]
     },
     "execution_count": 24,
     "metadata": {},
     "output_type": "execute_result"
    }
   ],
   "source": [
    "base=float(input('enter the base of the parallelogram'))\n",
    "height=float(input('enter the height of the parallelogram'))\n",
    "area_of_parallelogram=base*height\n",
    "area_of_parallelogram"
   ]
  },
  {
   "cell_type": "markdown",
   "id": "2d066d1a-bf5b-4983-b29b-9f7cdc7cfdfd",
   "metadata": {},
   "source": [
    "# Area of Rhombus"
   ]
  },
  {
   "cell_type": "code",
   "execution_count": 27,
   "id": "c156fe8a-2a76-4b0a-8604-581442f6aff9",
   "metadata": {},
   "outputs": [
    {
     "name": "stdin",
     "output_type": "stream",
     "text": [
      "enter the length of first diagonal 26\n",
      "enter the length of second diagonal 32\n"
     ]
    },
    {
     "data": {
      "text/plain": [
       "416.0"
      ]
     },
     "execution_count": 27,
     "metadata": {},
     "output_type": "execute_result"
    }
   ],
   "source": [
    "diagonal_1=float(input('enter the length of first diagonal'))\n",
    "diagonal_2=float(input('enter the length of second diagonal'))\n",
    "area_of_rhombus=1/2*diagonal_1*diagonal_2\n",
    "area_of_rhombus"
   ]
  },
  {
   "cell_type": "markdown",
   "id": "553f29b5-ccec-4195-b963-e8c5506cce58",
   "metadata": {},
   "source": [
    "# Area of Trapezoid"
   ]
  },
  {
   "cell_type": "code",
   "execution_count": 34,
   "id": "9db7b129-246f-400f-87c8-494cbf89f3e6",
   "metadata": {},
   "outputs": [
    {
     "name": "stdin",
     "output_type": "stream",
     "text": [
      "enter the length of base_1 10\n",
      "enter the length of base_2 5\n",
      "enter the height of trapezoid 4.5\n"
     ]
    },
    {
     "data": {
      "text/plain": [
       "33.75"
      ]
     },
     "execution_count": 34,
     "metadata": {},
     "output_type": "execute_result"
    }
   ],
   "source": [
    "base_1=float(input('enter the length of base_1'))\n",
    "base_2=float(input('enter the length of base_2'))\n",
    "height=float(input('enter the height of trapezoid'))\n",
    "area_of_trapezoid=1/2*(base_1+base_2)*height\n",
    "area_of_trapezoid"
   ]
  },
  {
   "cell_type": "markdown",
   "id": "db428615-ac6c-41a4-b53a-5c1baa5d6a26",
   "metadata": {},
   "source": [
    "# Area of Kite"
   ]
  },
  {
   "cell_type": "code",
   "execution_count": 37,
   "id": "96f062c9-04b6-4dd1-88ea-722aa5015e53",
   "metadata": {},
   "outputs": [
    {
     "name": "stdin",
     "output_type": "stream",
     "text": [
      "enter the length of first diagonal 2.5\n",
      "enter the length of second diagonal 3.5\n"
     ]
    },
    {
     "data": {
      "text/plain": [
       "4.375"
      ]
     },
     "execution_count": 37,
     "metadata": {},
     "output_type": "execute_result"
    }
   ],
   "source": [
    "diagonal_1=float(input('enter the length of first diagonal'))\n",
    "diagonal_2=float(input('enter the length of second diagonal'))\n",
    "area_of_kite=(diagonal_1*diagonal_2)/2\n",
    "area_of_kite"
   ]
  },
  {
   "cell_type": "markdown",
   "id": "0d387e3a-ba1a-4389-a468-7a1271fde6d6",
   "metadata": {},
   "source": [
    "# Area of Pentagon"
   ]
  },
  {
   "cell_type": "code",
   "execution_count": 41,
   "id": "36b0026c-e359-48ce-919e-34b9773887bb",
   "metadata": {},
   "outputs": [
    {
     "name": "stdin",
     "output_type": "stream",
     "text": [
      "enter length of s1 5\n",
      "enter length of s2 6\n",
      "enter length of s3 2\n",
      "enter length of s4 3\n",
      "enter length of s5 7\n",
      "enter the apothem 6\n"
     ]
    },
    {
     "data": {
      "text/plain": [
       "69.0"
      ]
     },
     "execution_count": 41,
     "metadata": {},
     "output_type": "execute_result"
    }
   ],
   "source": [
    "s1=float(input('enter length of s1'))\n",
    "s2=float(input('enter length of s2'))\n",
    "s3=float(input('enter length of s3'))\n",
    "s4=float(input('enter length of s4'))\n",
    "s5=float(input('enter length of s5'))\n",
    "perimeter=s1+s2+s3+s4+s5\n",
    "apothem=float(input('enter the apothem'))# apothem is the perpendicular length of any side from center of pentagon\n",
    "area_of_pentagon=1/2*perimeter*apothem\n",
    "area_of_pentagon"
   ]
  },
  {
   "cell_type": "markdown",
   "id": "19317174-5e75-4ce7-9d85-cd6787bdb140",
   "metadata": {},
   "source": [
    "# Area of hexagon"
   ]
  },
  {
   "cell_type": "code",
   "execution_count": 44,
   "id": "9b3abcfd-c2d8-47a8-b641-f04ba70cdf20",
   "metadata": {},
   "outputs": [
    {
     "name": "stdin",
     "output_type": "stream",
     "text": [
      "enter length of side 5\n"
     ]
    },
    {
     "data": {
      "text/plain": [
       "56.25"
      ]
     },
     "execution_count": 44,
     "metadata": {},
     "output_type": "execute_result"
    }
   ],
   "source": [
    "side=float(input('enter length of side'))\n",
    "area_of_hexagon=((3*(3**1/2))/2)*side**2\n",
    "area_of_hexagon"
   ]
  },
  {
   "cell_type": "markdown",
   "id": "c3673ae5-cb2b-4838-b504-d71934339d34",
   "metadata": {},
   "source": [
    "# Volume of Cube"
   ]
  },
  {
   "cell_type": "code",
   "execution_count": 49,
   "id": "f67a14df-2938-4523-b5e7-edef79c44748",
   "metadata": {},
   "outputs": [
    {
     "name": "stdin",
     "output_type": "stream",
     "text": [
      "enter the length of side  5\n"
     ]
    },
    {
     "data": {
      "text/plain": [
       "125.0"
      ]
     },
     "execution_count": 49,
     "metadata": {},
     "output_type": "execute_result"
    }
   ],
   "source": [
    "side=float(input(\"enter the length of side \"))\n",
    "volume_of_cube=side**3\n",
    "volume_of_cube"
   ]
  },
  {
   "cell_type": "markdown",
   "id": "d688922b-19ae-4420-9a74-6b9e63fa68be",
   "metadata": {},
   "source": [
    "# Volume of Cuboid"
   ]
  },
  {
   "cell_type": "code",
   "execution_count": 54,
   "id": "4ad148cc-97cb-4fc4-99cb-8157056b0b18",
   "metadata": {},
   "outputs": [
    {
     "name": "stdin",
     "output_type": "stream",
     "text": [
      "entar the base of cuboid  2\n",
      "entar the length of cuboid  6\n",
      "entar the height of cuboid  3\n"
     ]
    },
    {
     "data": {
      "text/plain": [
       "138.0"
      ]
     },
     "execution_count": 54,
     "metadata": {},
     "output_type": "execute_result"
    }
   ],
   "source": [
    "base=float(input(\"entar the base of cuboid \"))\n",
    "lenght=float(input(\"entar the length of cuboid \"))\n",
    "height=float(input(\"entar the height of cuboid \"))\n",
    "volume_of_cuboid=base*length*height\n",
    "volume_of_cuboid"
   ]
  },
  {
   "cell_type": "markdown",
   "id": "69e60695-01bf-4e42-8100-35fb9ed06941",
   "metadata": {},
   "source": [
    "# Volume of Cone"
   ]
  },
  {
   "cell_type": "code",
   "execution_count": 59,
   "id": "7df96242-d8ad-4a27-9227-9c32ee722e9c",
   "metadata": {},
   "outputs": [
    {
     "name": "stdin",
     "output_type": "stream",
     "text": [
      "enter the radius of the base circle of cone 5\n",
      "enter the height of the cone 3\n"
     ]
    },
    {
     "data": {
      "text/plain": [
       "78.54999999999998"
      ]
     },
     "execution_count": 59,
     "metadata": {},
     "output_type": "execute_result"
    }
   ],
   "source": [
    "radius=float(input('enter the radius of the base circle of cone'))\n",
    "height=float(input('enter the height of the cone'))\n",
    "volume_of_cone=1/3*3.142*radius**2*height\n",
    "volume_of_cone"
   ]
  },
  {
   "cell_type": "markdown",
   "id": "ebe71832-7ae0-492e-93fa-9507e4c1628e",
   "metadata": {},
   "source": [
    "# Volume of Cylinder"
   ]
  },
  {
   "cell_type": "code",
   "execution_count": 62,
   "id": "c22aa297-905b-4436-9548-c5cda516b642",
   "metadata": {},
   "outputs": [
    {
     "name": "stdin",
     "output_type": "stream",
     "text": [
      "enter the radius of the lower/upper circle of cylinder 5\n",
      "enter the height of the cylinder 10\n"
     ]
    },
    {
     "data": {
      "text/plain": [
       "785.5"
      ]
     },
     "execution_count": 62,
     "metadata": {},
     "output_type": "execute_result"
    }
   ],
   "source": [
    "radius=float(input('enter the radius of the lower/upper circle of cylinder'))\n",
    "height=float(input('enter the height of the cylinder'))\n",
    "volume_of_cylinder=3.142*radius**2*height\n",
    "volume_of_cylinder"
   ]
  },
  {
   "cell_type": "markdown",
   "id": "2475b16a-dd5c-48b3-9f36-baf5e2825036",
   "metadata": {},
   "source": [
    "# Volume of Sphere"
   ]
  },
  {
   "cell_type": "code",
   "execution_count": 65,
   "id": "f14b90aa-ca17-4c03-94e6-b61ef9402296",
   "metadata": {},
   "outputs": [
    {
     "name": "stdin",
     "output_type": "stream",
     "text": [
      "enter the radius of sphere 5\n"
     ]
    },
    {
     "data": {
      "text/plain": [
       "523.6666666666666"
      ]
     },
     "execution_count": 65,
     "metadata": {},
     "output_type": "execute_result"
    }
   ],
   "source": [
    "radius=float(input('enter the radius of sphere'))\n",
    "volume_of_sphere=4/3*3.142*radius**3\n",
    "volume_of_sphere"
   ]
  },
  {
   "cell_type": "markdown",
   "id": "1e85bc59-0063-45c3-bf04-714a25ddf49c",
   "metadata": {},
   "source": [
    "# Volume of Pyramid"
   ]
  },
  {
   "cell_type": "code",
   "execution_count": 68,
   "id": "4cfe924f-a4f6-4b3c-b6cd-803b1e520207",
   "metadata": {},
   "outputs": [
    {
     "name": "stdin",
     "output_type": "stream",
     "text": [
      "enter the base of pyramid 5\n",
      "enter the height of pyramid 10\n"
     ]
    },
    {
     "data": {
      "text/plain": [
       "16.666666666666664"
      ]
     },
     "execution_count": 68,
     "metadata": {},
     "output_type": "execute_result"
    }
   ],
   "source": [
    "base=float(input('enter the base of pyramid'))\n",
    "height=float(input('enter the height of pyramid'))\n",
    "volume_of_pyramid=1/3*base*height\n",
    "volume_of_pyramid"
   ]
  },
  {
   "cell_type": "code",
   "execution_count": null,
   "id": "6ced6a0b-3489-4a49-8b49-505d3d4312b3",
   "metadata": {},
   "outputs": [],
   "source": []
  }
 ],
 "metadata": {
  "kernelspec": {
   "display_name": "Python 3 (ipykernel)",
   "language": "python",
   "name": "python3"
  },
  "language_info": {
   "codemirror_mode": {
    "name": "ipython",
    "version": 3
   },
   "file_extension": ".py",
   "mimetype": "text/x-python",
   "name": "python",
   "nbconvert_exporter": "python",
   "pygments_lexer": "ipython3",
   "version": "3.12.4"
  }
 },
 "nbformat": 4,
 "nbformat_minor": 5
}
