{
 "cells": [
  {
   "cell_type": "markdown",
   "id": "134e235c-4762-44af-b019-e281bbd67eca",
   "metadata": {},
   "source": [
    "# Sets\n",
    "1) Sets are used to store multiple items in a single variable.\n",
    "2) A set is a collection of items (strings or floats or integers) which is unordered, unchangeable, and unindexed.\n",
    "3) Duplicates are not allowed in the sets.\r",
    "4) sets are created by enclosing the items (strings or floats or integers) into curly brackets. { } .\r\n",
    "\r\n",
    "\r\n"
   ]
  },
  {
   "cell_type": "code",
   "execution_count": 1,
   "id": "6981ea5e-45ef-4b4c-a07f-a2f8b6169b29",
   "metadata": {},
   "outputs": [
    {
     "data": {
      "text/plain": [
       "{'joshi', 'keshav', 'mahesh', 'male'}"
      ]
     },
     "execution_count": 1,
     "metadata": {},
     "output_type": "execute_result"
    }
   ],
   "source": [
    "# lets create a set cotaining some strings.\n",
    "a={'keshav','mahesh','joshi','male'}\n",
    "a"
   ]
  },
  {
   "cell_type": "raw",
   "id": "476838fd-2c3f-4f0a-9309-ce46a3966e9d",
   "metadata": {},
   "source": [
    "type(a)"
   ]
  },
  {
   "cell_type": "raw",
   "id": "84a95f8c-8b57-4555-a347-1b194c710b91",
   "metadata": {},
   "source": [
    "\n",
    "# It is given that the sets does not support repeatition of values, let's see that what happens if repeat values are given to sets.\n"
   ]
  },
  {
   "cell_type": "code",
   "execution_count": 5,
   "id": "fc98fe38-f5b7-4ab7-a63d-4a61d8e81fb9",
   "metadata": {},
   "outputs": [
    {
     "name": "stdout",
     "output_type": "stream",
     "text": [
      "{'mahesh', 'keshav', 'joshi'}\n",
      "<class 'set'>\n"
     ]
    }
   ],
   "source": [
    "b={'keshav',\"mahesh\",'joshi','keshav','mahesh','joshi'}\n",
    "print(b)\n",
    "print(type(b))"
   ]
  },
  {
   "cell_type": "raw",
   "id": "37911b84-c1cb-4f37-8d90-8bc2b22a7906",
   "metadata": {},
   "source": [
    "\n",
    "from above example we can say that the sets not allows the repeatition of values and it is completly unorderd\n"
   ]
  },
  {
   "cell_type": "code",
   "execution_count": 1,
   "id": "f1dbbe9e-97b3-4786-90b5-099b7c02169a",
   "metadata": {},
   "outputs": [
    {
     "data": {
      "text/plain": [
       "{0, 1, 2, 3, 4, 5}"
      ]
     },
     "execution_count": 1,
     "metadata": {},
     "output_type": "execute_result"
    }
   ],
   "source": [
    "c={0,1,2,3,4,5,False}\n",
    "c"
   ]
  },
  {
   "cell_type": "raw",
   "id": "afc95543-372d-43a2-a415-dba36a6d26e2",
   "metadata": {},
   "source": [
    "\n",
    "In the above example it is seen that \"0\" and \"False\" are considerd as same elements so the \"False\" is the duplicate entry according to the set so it is removed when we print the given set. It is same for the '1' and 'True' if both the entries are given in the input the set removes the 'True' named entry. Let's see this with an example.\n"
   ]
  },
  {
   "cell_type": "code",
   "execution_count": 3,
   "id": "fd3a96b4-171d-47bf-83ac-9921eb69f3ac",
   "metadata": {},
   "outputs": [
    {
     "data": {
      "text/plain": [
       "{1}"
      ]
     },
     "execution_count": 3,
     "metadata": {},
     "output_type": "execute_result"
    }
   ],
   "source": [
    "d= {1,True}\n",
    "d"
   ]
  },
  {
   "cell_type": "markdown",
   "id": "5010e786-ca92-4bfb-a0f0-77cfb786a8c7",
   "metadata": {},
   "source": [
    "# Checking that the item present in the given set or not\n",
    "1) To check the perticular item present in a set a (say):    print( \"item in the set\" in a ).\n",
    "2) To check the perticular item not present in a set b(say):   print( \"item in the set\" in b )"
   ]
  },
  {
   "cell_type": "code",
   "execution_count": 28,
   "id": "60a1293a-9ac9-4352-a6a2-9346e4534dc9",
   "metadata": {},
   "outputs": [
    {
     "name": "stdout",
     "output_type": "stream",
     "text": [
      "{2001, 2, 26, 'keshav', 'joshi'}\n",
      "True\n"
     ]
    }
   ],
   "source": [
    "e= {'keshav',\"joshi\",26,2,2001}\n",
    "print(e)\n",
    "print('keshav' in e)"
   ]
  },
  {
   "cell_type": "code",
   "execution_count": 9,
   "id": "953f45b1-d2a4-4f73-ace5-ccd89462c89a",
   "metadata": {},
   "outputs": [
    {
     "name": "stdout",
     "output_type": "stream",
     "text": [
      "False\n"
     ]
    }
   ],
   "source": [
    "print('keshav' not in e)"
   ]
  },
  {
   "cell_type": "code",
   "execution_count": 11,
   "id": "487ee2ee-7668-4222-85bf-8a6b85ed03ee",
   "metadata": {},
   "outputs": [
    {
     "name": "stdout",
     "output_type": "stream",
     "text": [
      "False\n"
     ]
    }
   ],
   "source": [
    "print('ddfs' in e)"
   ]
  },
  {
   "cell_type": "code",
   "execution_count": 15,
   "id": "2d861aa1-bd40-4ec8-8c63-9d3eb699c8bb",
   "metadata": {},
   "outputs": [
    {
     "name": "stdout",
     "output_type": "stream",
     "text": [
      "True\n"
     ]
    }
   ],
   "source": [
    "print('wefd' not in e)"
   ]
  },
  {
   "cell_type": "markdown",
   "id": "a4965606-7fc9-407a-b19f-f29aba852cb5",
   "metadata": {},
   "source": [
    "# accessing the elements of set\n",
    "Since set is unoerderd and does not supports the indexing and slicing so we can't access directly the set eelements but by using \"loops\" we can access the elements of the set."
   ]
  },
  {
   "cell_type": "code",
   "execution_count": 30,
   "id": "d54fc587-94a9-4df8-ae88-83c6d8647d03",
   "metadata": {},
   "outputs": [
    {
     "name": "stdout",
     "output_type": "stream",
     "text": [
      "{2001, 2, 26, 'keshav', 'joshi'}\n"
     ]
    },
    {
     "ename": "TypeError",
     "evalue": "'set' object is not subscriptable",
     "output_type": "error",
     "traceback": [
      "\u001b[1;31m---------------------------------------------------------------------------\u001b[0m",
      "\u001b[1;31mTypeError\u001b[0m                                 Traceback (most recent call last)",
      "Cell \u001b[1;32mIn[30], line 2\u001b[0m\n\u001b[0;32m      1\u001b[0m \u001b[38;5;28mprint\u001b[39m(e)\n\u001b[1;32m----> 2\u001b[0m e[\u001b[38;5;241m0\u001b[39m]\n",
      "\u001b[1;31mTypeError\u001b[0m: 'set' object is not subscriptable"
     ]
    }
   ],
   "source": [
    "print(e)\n",
    "e[0] # it will gives the type error because set does not supports the indexing."
   ]
  },
  {
   "cell_type": "markdown",
   "id": "0431b3e2-8ceb-4dd3-87d0-fddb56929e6e",
   "metadata": {},
   "source": [
    "# Add item\n",
    "1) Once a set is created, you cannot change its items, but you can add new items.\n",
    "2) To add one item to a set use the add ( ) method.\r",
    "\r\n",
    "\r\n"
   ]
  },
  {
   "cell_type": "code",
   "execution_count": 34,
   "id": "19ddfde8-09c7-42ea-a598-24c04b0181c6",
   "metadata": {},
   "outputs": [
    {
     "name": "stdout",
     "output_type": "stream",
     "text": [
      "{'rfd', 'wqs', 'ws', 'efwd', 'qwdas'}\n",
      "{'rfd', 'wqs', 'ws', 'efwd', 'keshav', 'qwdas'}\n"
     ]
    }
   ],
   "source": [
    "k={'qwdas','ws','wqs','efwd','rfd'}\n",
    "print (k)\n",
    "k.add(\"keshav\")\n",
    "print(k)"
   ]
  },
  {
   "cell_type": "code",
   "execution_count": 36,
   "id": "b98e6396-5c81-4b2c-9067-020cad62e546",
   "metadata": {},
   "outputs": [
    {
     "ename": "AttributeError",
     "evalue": "'set' object has no attribute 'append'",
     "output_type": "error",
     "traceback": [
      "\u001b[1;31m---------------------------------------------------------------------------\u001b[0m",
      "\u001b[1;31mAttributeError\u001b[0m                            Traceback (most recent call last)",
      "Cell \u001b[1;32mIn[36], line 1\u001b[0m\n\u001b[1;32m----> 1\u001b[0m k\u001b[38;5;241m.\u001b[39mappend(\u001b[38;5;124m'\u001b[39m\u001b[38;5;124mjoshi\u001b[39m\u001b[38;5;124m'\u001b[39m)\n",
      "\u001b[1;31mAttributeError\u001b[0m: 'set' object has no attribute 'append'"
     ]
    }
   ],
   "source": [
    "k.append('joshi')"
   ]
  },
  {
   "cell_type": "raw",
   "id": "57732324-fe4f-48af-90fe-d8d63c49beb7",
   "metadata": {},
   "source": [
    "# Note that the set is unorderd therfore append ( ) method does not works for the set because uppend method adds the element at the end. Since there is no order so we can't add element at the end."
   ]
  },
  {
   "cell_type": "code",
   "execution_count": 55,
   "id": "c798a243-1e74-4d42-9ea3-c24bbd2c9c5f",
   "metadata": {},
   "outputs": [
    {
     "ename": "AttributeError",
     "evalue": "'set' object has no attribute 'extend'",
     "output_type": "error",
     "traceback": [
      "\u001b[1;31m---------------------------------------------------------------------------\u001b[0m",
      "\u001b[1;31mAttributeError\u001b[0m                            Traceback (most recent call last)",
      "Cell \u001b[1;32mIn[55], line 1\u001b[0m\n\u001b[1;32m----> 1\u001b[0m k\u001b[38;5;241m.\u001b[39mextend(\u001b[38;5;124m'\u001b[39m\u001b[38;5;124mjoshi\u001b[39m\u001b[38;5;124m'\u001b[39m)\n",
      "\u001b[1;31mAttributeError\u001b[0m: 'set' object has no attribute 'extend'"
     ]
    }
   ],
   "source": [
    "k.extend('joshi') # set does not supports the extend like append."
   ]
  },
  {
   "cell_type": "code",
   "execution_count": 57,
   "id": "1757f1df-36bc-4a6e-93cb-6b8b52a4429a",
   "metadata": {},
   "outputs": [
    {
     "ename": "AttributeError",
     "evalue": "'set' object has no attribute 'insert'",
     "output_type": "error",
     "traceback": [
      "\u001b[1;31m---------------------------------------------------------------------------\u001b[0m",
      "\u001b[1;31mAttributeError\u001b[0m                            Traceback (most recent call last)",
      "Cell \u001b[1;32mIn[57], line 1\u001b[0m\n\u001b[1;32m----> 1\u001b[0m k\u001b[38;5;241m.\u001b[39minsert(\u001b[38;5;124m'\u001b[39m\u001b[38;5;124mjoshi\u001b[39m\u001b[38;5;124m'\u001b[39m)\n\u001b[0;32m      2\u001b[0m \u001b[38;5;28mprint\u001b[39m(k)\n",
      "\u001b[1;31mAttributeError\u001b[0m: 'set' object has no attribute 'insert'"
     ]
    }
   ],
   "source": [
    "k.insert('joshi')\n",
    "print(k)"
   ]
  },
  {
   "cell_type": "markdown",
   "id": "ee377dc6-9b43-4265-b208-8bbb5c5dff39",
   "metadata": {},
   "source": [
    "# Add elements of a list / Tuple / set to at set\n",
    "To add list / tuple / set  in the set use update ( ) method.\n",
    "\n"
   ]
  },
  {
   "cell_type": "code",
   "execution_count": 47,
   "id": "998ac082-b541-4333-a9da-c5dcd0633277",
   "metadata": {},
   "outputs": [
    {
     "name": "stdout",
     "output_type": "stream",
     "text": [
      "{'Solapur', 'India', 'Maharashtra', 'Barshi', 'Chare'}\n"
     ]
    }
   ],
   "source": [
    "set={'Chare','Barshi','Solapur'}\n",
    "list=['Maharashtra','India']\n",
    "set.update(list)\n",
    "print(set)"
   ]
  },
  {
   "cell_type": "code",
   "execution_count": 49,
   "id": "4756e354-dc62-483f-bd99-19db2a91628f",
   "metadata": {},
   "outputs": [
    {
     "name": "stdout",
     "output_type": "stream",
     "text": [
      "{'Solapur', 'India', 'Maharashtra', 'Barshi', 'Chare', 'keshav', 'joshi'}\n"
     ]
    }
   ],
   "source": [
    "tuple=('keshav','joshi')\n",
    "set.update(tuple)\n",
    "print(set)"
   ]
  },
  {
   "cell_type": "code",
   "execution_count": 53,
   "id": "3b0ffd73-5ec1-4540-a8fe-3103b7abf72a",
   "metadata": {},
   "outputs": [
    {
     "name": "stdout",
     "output_type": "stream",
     "text": [
      "{'Solapur', 'India', 'student', 'male', 'Maharashtra', 'Barshi', 'Chare', 'keshav', 'joshi'}\n"
     ]
    }
   ],
   "source": [
    "set2={\"student\",\"male\"}\n",
    "set.update(set2)\n",
    "print(set)"
   ]
  },
  {
   "cell_type": "markdown",
   "id": "d07707ab-b860-448c-920c-cde872a6ba79",
   "metadata": {},
   "source": [
    "# Remove Set Items\n",
    "1) To remove the item from the set use the remove ( ) method.\n",
    "2) You can also use the discard ( ) method.\n",
    "3) The difference between the remove and discard method is that if the item that we are removing by remove ( ) method is not present in the given set it will give the error, but the discard( ) method does not gives the error for the same operation."
   ]
  },
  {
   "cell_type": "code",
   "execution_count": 66,
   "id": "cf65d90b-d832-4798-8937-4c000a3daf1f",
   "metadata": {},
   "outputs": [
    {
     "data": {
      "text/plain": [
       "{'Barshi',\n",
       " 'Chare',\n",
       " 'India',\n",
       " 'Maharashtra',\n",
       " 'Solapur',\n",
       " 'joshi',\n",
       " 'keshav',\n",
       " 'male',\n",
       " 'student'}"
      ]
     },
     "execution_count": 66,
     "metadata": {},
     "output_type": "execute_result"
    }
   ],
   "source": [
    "set\n"
   ]
  },
  {
   "cell_type": "code",
   "execution_count": 68,
   "id": "92da05c6-61a1-401d-8186-52098995d101",
   "metadata": {},
   "outputs": [
    {
     "data": {
      "text/plain": [
       "{'Barshi',\n",
       " 'Chare',\n",
       " 'India',\n",
       " 'Maharashtra',\n",
       " 'Solapur',\n",
       " 'joshi',\n",
       " 'keshav',\n",
       " 'student'}"
      ]
     },
     "execution_count": 68,
     "metadata": {},
     "output_type": "execute_result"
    }
   ],
   "source": [
    "set.remove('male')\n",
    "set"
   ]
  },
  {
   "cell_type": "code",
   "execution_count": 70,
   "id": "2818de02-f48a-47c8-9403-ec112d0f0786",
   "metadata": {},
   "outputs": [],
   "source": [
    "set.discard('keshav')"
   ]
  },
  {
   "cell_type": "code",
   "execution_count": 72,
   "id": "c6cb8724-8c4e-4c38-81d8-b8914adc95fc",
   "metadata": {},
   "outputs": [
    {
     "data": {
      "text/plain": [
       "{'Barshi', 'Chare', 'India', 'Maharashtra', 'Solapur', 'joshi', 'student'}"
      ]
     },
     "execution_count": 72,
     "metadata": {},
     "output_type": "execute_result"
    }
   ],
   "source": [
    "set"
   ]
  },
  {
   "cell_type": "code",
   "execution_count": 76,
   "id": "890682e1-f584-4da1-8212-3c6beb1899c5",
   "metadata": {},
   "outputs": [
    {
     "ename": "KeyError",
     "evalue": "'keshav'",
     "output_type": "error",
     "traceback": [
      "\u001b[1;31m---------------------------------------------------------------------------\u001b[0m",
      "\u001b[1;31mKeyError\u001b[0m                                  Traceback (most recent call last)",
      "Cell \u001b[1;32mIn[76], line 1\u001b[0m\n\u001b[1;32m----> 1\u001b[0m \u001b[38;5;28mset\u001b[39m\u001b[38;5;241m.\u001b[39mremove(\u001b[38;5;124m'\u001b[39m\u001b[38;5;124mkeshav\u001b[39m\u001b[38;5;124m'\u001b[39m) \u001b[38;5;66;03m# 'keshav' is not present in the set so it gives the error.\u001b[39;00m\n\u001b[0;32m      2\u001b[0m \u001b[38;5;28mset\u001b[39m\n",
      "\u001b[1;31mKeyError\u001b[0m: 'keshav'"
     ]
    }
   ],
   "source": [
    "set.remove('keshav') # 'keshav' is not present in the set so it gives the error.\n",
    "set"
   ]
  },
  {
   "cell_type": "code",
   "execution_count": 78,
   "id": "d38429f9-644e-4d2a-ad6e-141b909d32c8",
   "metadata": {},
   "outputs": [
    {
     "data": {
      "text/plain": [
       "{'Barshi', 'Chare', 'India', 'Maharashtra', 'Solapur', 'joshi', 'student'}"
      ]
     },
     "execution_count": 78,
     "metadata": {},
     "output_type": "execute_result"
    }
   ],
   "source": [
    "set.discard('keshav') #'keshav' does not present in the set but discard method does not gives\n",
    "#the error.\n",
    "set"
   ]
  },
  {
   "cell_type": "raw",
   "id": "4f81387d-04d4-4729-bf3a-f9f1fd111355",
   "metadata": {},
   "source": [
    "\n",
    "Note: You can also use the pop() method to remove an item, but this method will remove a random item, so you cannot be sure what item that gets removed.\n",
    "\n"
   ]
  },
  {
   "cell_type": "code",
   "execution_count": 80,
   "id": "42fe58a6-8f37-4fc9-b847-3b96e00a2a53",
   "metadata": {},
   "outputs": [
    {
     "name": "stdout",
     "output_type": "stream",
     "text": [
      "{'Solapur', 'India', 'student', 'Maharashtra', 'Barshi', 'Chare', 'joshi'}\n",
      "{'India', 'student', 'Maharashtra', 'Barshi', 'Chare', 'joshi'}\n"
     ]
    }
   ],
   "source": [
    "print(set)\n",
    "set.pop()\n",
    "print(set)"
   ]
  },
  {
   "cell_type": "markdown",
   "id": "eb83c5f9-5f5c-4cc6-82ab-0b2a0c820023",
   "metadata": {},
   "source": [
    "# Remove Set Items and deleting the set\n",
    "1) To remove the item from the set set.remove( ) method is used.\n",
    "2) To delete the set del set method is used.\n",
    "\r\n"
   ]
  },
  {
   "cell_type": "code",
   "execution_count": 96,
   "id": "3bb46f72-370c-4e1e-8c54-7364d504404e",
   "metadata": {},
   "outputs": [
    {
     "data": {
      "text/plain": [
       "{21, 45}"
      ]
     },
     "execution_count": 96,
     "metadata": {},
     "output_type": "execute_result"
    }
   ],
   "source": [
    "u={21,45,54}\n",
    "u.remove(54)\n",
    "u"
   ]
  },
  {
   "cell_type": "code",
   "execution_count": 98,
   "id": "7f9c0a33-7e9b-41ed-9604-81763f5db0b6",
   "metadata": {},
   "outputs": [],
   "source": [
    "del u"
   ]
  },
  {
   "cell_type": "code",
   "execution_count": 100,
   "id": "79df2e9e-808a-434c-a87f-4e5ecad6eaf5",
   "metadata": {},
   "outputs": [
    {
     "ename": "NameError",
     "evalue": "name 'u' is not defined",
     "output_type": "error",
     "traceback": [
      "\u001b[1;31m---------------------------------------------------------------------------\u001b[0m",
      "\u001b[1;31mNameError\u001b[0m                                 Traceback (most recent call last)",
      "Cell \u001b[1;32mIn[100], line 1\u001b[0m\n\u001b[1;32m----> 1\u001b[0m u\n",
      "\u001b[1;31mNameError\u001b[0m: name 'u' is not defined"
     ]
    }
   ],
   "source": [
    "u"
   ]
  },
  {
   "cell_type": "markdown",
   "id": "7997e986-cf91-4023-bf6c-7f2626362ff6",
   "metadata": {},
   "source": [
    "# Set Operations\n",
    "1) union ( ). It will gives the all the elements of the all the sets for which you are using union. The same elements in all the sets are taken only once.\n",
    "2) intersection ( ). It will gives the set of common elements from all the set for which you are using the intersection.\n",
    "3) intersection_update ( ). It gives the intersection of the sets and makechanges in the original set.\n",
    "4) update ( ). It adds the one set to another and it is useful for adding the tupple and lists in the set."
   ]
  },
  {
   "cell_type": "code",
   "execution_count": 103,
   "id": "ec273ea2-08dd-4652-8c53-98bbfd17de7e",
   "metadata": {},
   "outputs": [
    {
     "name": "stdout",
     "output_type": "stream",
     "text": [
      "{'hi', 'fine', 'i', 'how are you', 'keshav', 'am', 'thanks'}\n"
     ]
    }
   ],
   "source": [
    "set1={'hi','keshav','how are you'}\n",
    "set2={'i','am','fine','thanks'}\n",
    "set3=set1.union(set2)\n",
    "print(set3)"
   ]
  },
  {
   "cell_type": "code",
   "execution_count": 105,
   "id": "3e6cc2a6-bb2f-4a0f-9380-1ad7b6f6667a",
   "metadata": {},
   "outputs": [
    {
     "name": "stdout",
     "output_type": "stream",
     "text": [
      "set()\n"
     ]
    }
   ],
   "source": [
    "set4=set1.intersection(set2)\n",
    "print(set4)"
   ]
  },
  {
   "cell_type": "code",
   "execution_count": 111,
   "id": "3d04c856-4b25-4765-b850-2bc9657dd816",
   "metadata": {},
   "outputs": [
    {
     "name": "stdout",
     "output_type": "stream",
     "text": [
      "set()\n"
     ]
    }
   ],
   "source": [
    "set1.intersection_update(set2)\n",
    "print(set1)"
   ]
  },
  {
   "cell_type": "code",
   "execution_count": 116,
   "id": "cad41430-e92d-4af2-9e92-c2bca70329b8",
   "metadata": {},
   "outputs": [
    {
     "data": {
      "text/plain": [
       "set()"
      ]
     },
     "execution_count": 116,
     "metadata": {},
     "output_type": "execute_result"
    }
   ],
   "source": [
    "set1 # So our set1 is now modified and it becomes the null set."
   ]
  },
  {
   "cell_type": "code",
   "execution_count": 118,
   "id": "1af947d0-9227-4ab2-bf7c-a7c7fa6a7297",
   "metadata": {},
   "outputs": [
    {
     "name": "stdout",
     "output_type": "stream",
     "text": [
      "{875, 785, 52, 895, 87, 542, 63}\n"
     ]
    }
   ],
   "source": [
    "set5={542,875,52,895}\n",
    "set6={87,785,63}\n",
    "set7=set5.symmetric_difference(set6)\n",
    "print(set7)"
   ]
  },
  {
   "cell_type": "raw",
   "id": "912f6df6-bd77-452d-bc6e-5c74a26c9ad6",
   "metadata": {},
   "source": [
    " # Note: symmetric_difference gives the all items from both sets except those that are common to both."
   ]
  },
  {
   "cell_type": "code",
   "execution_count": 122,
   "id": "d53d8ca3-4556-4223-923b-56c1ec724729",
   "metadata": {},
   "outputs": [
    {
     "data": {
      "text/plain": [
       "{8745, 9856, 86453, 87965, 874512548}"
      ]
     },
     "execution_count": 122,
     "metadata": {},
     "output_type": "execute_result"
    }
   ],
   "source": [
    "set5={542,875,52,895,87965,9856}\n",
    "set8={542,875,52,895,86453,874512548,8745}\n",
    "set9=set5.symmetric_difference(set8)\n",
    "set9"
   ]
  },
  {
   "cell_type": "markdown",
   "id": "2438df08-81dd-4397-9576-526ec4155c41",
   "metadata": {},
   "source": [
    "# Some additional methods for the set\n",
    "1) issubset( ). suppose 'a' and 'b' are two sets then a.issubset(b) checks whether the set a is subset of b or not.\n",
    "2) issuperset( ). Suppose  \"a\" and 'b' are two sets then a.issuperset(b) checks whether the set 'a' is superset of 'b' or not.\n",
    "3) isdisjoint( ). suppose 'a' and 'b' are two sets then a.isdisjoint(b) checkswhether the set 'a' and 'b' are disjoint or not. i.e there are no common elements in 'a' and 'b'.\n",
    "4) pop( ). removes the random element of set."
   ]
  },
  {
   "cell_type": "code",
   "execution_count": 5,
   "id": "138a984b-4be6-491e-9d87-67fb5b672215",
   "metadata": {},
   "outputs": [
    {
     "data": {
      "text/plain": [
       "True"
      ]
     },
     "execution_count": 5,
     "metadata": {},
     "output_type": "execute_result"
    }
   ],
   "source": [
    "k={26,2,2001}\n",
    "j={26,2,2001,'keshav','joshi'}\n",
    "k.issubset(j)"
   ]
  },
  {
   "cell_type": "code",
   "execution_count": 9,
   "id": "5866dfb0-18bf-41d8-bd62-8cf611b70a32",
   "metadata": {},
   "outputs": [
    {
     "data": {
      "text/plain": [
       "False"
      ]
     },
     "execution_count": 9,
     "metadata": {},
     "output_type": "execute_result"
    }
   ],
   "source": [
    "j.issubset(k)"
   ]
  },
  {
   "cell_type": "code",
   "execution_count": 11,
   "id": "86d54b80-f666-4901-bc7e-4fbd485b46b6",
   "metadata": {},
   "outputs": [
    {
     "data": {
      "text/plain": [
       "True"
      ]
     },
     "execution_count": 11,
     "metadata": {},
     "output_type": "execute_result"
    }
   ],
   "source": [
    "j.issuperset(k)"
   ]
  },
  {
   "cell_type": "code",
   "execution_count": 13,
   "id": "5e60096a-dc5d-4f06-b54d-7841e7de7c2d",
   "metadata": {},
   "outputs": [
    {
     "data": {
      "text/plain": [
       "False"
      ]
     },
     "execution_count": 13,
     "metadata": {},
     "output_type": "execute_result"
    }
   ],
   "source": [
    "k.issuperset(j)"
   ]
  },
  {
   "cell_type": "code",
   "execution_count": 15,
   "id": "369c6119-3adb-4e67-add0-64bfae3e1e71",
   "metadata": {},
   "outputs": [
    {
     "data": {
      "text/plain": [
       "False"
      ]
     },
     "execution_count": 15,
     "metadata": {},
     "output_type": "execute_result"
    }
   ],
   "source": [
    "k.isdisjoint(j)"
   ]
  },
  {
   "cell_type": "code",
   "execution_count": 17,
   "id": "7b7d2cd7-bb96-4110-95c3-cf5d81c68272",
   "metadata": {},
   "outputs": [
    {
     "name": "stdout",
     "output_type": "stream",
     "text": [
      "{26, 2}\n"
     ]
    }
   ],
   "source": [
    "k.pop()\n",
    "print(k)"
   ]
  },
  {
   "cell_type": "code",
   "execution_count": 20,
   "id": "ae90b42c-bd5c-4b70-98c7-1bf2af2c36cd",
   "metadata": {},
   "outputs": [],
   "source": [
    "del k"
   ]
  },
  {
   "cell_type": "code",
   "execution_count": 22,
   "id": "8f4b200f-82c9-4a45-9b1f-34e227f7d73e",
   "metadata": {},
   "outputs": [
    {
     "ename": "NameError",
     "evalue": "name 'k' is not defined",
     "output_type": "error",
     "traceback": [
      "\u001b[1;31m---------------------------------------------------------------------------\u001b[0m",
      "\u001b[1;31mNameError\u001b[0m                                 Traceback (most recent call last)",
      "Cell \u001b[1;32mIn[22], line 1\u001b[0m\n\u001b[1;32m----> 1\u001b[0m k\n",
      "\u001b[1;31mNameError\u001b[0m: name 'k' is not defined"
     ]
    }
   ],
   "source": [
    "k"
   ]
  },
  {
   "cell_type": "code",
   "execution_count": null,
   "id": "051fb765-9de3-4c29-9190-41e8af8397a5",
   "metadata": {},
   "outputs": [],
   "source": []
  }
 ],
 "metadata": {
  "kernelspec": {
   "display_name": "Python 3 (ipykernel)",
   "language": "python",
   "name": "python3"
  },
  "language_info": {
   "codemirror_mode": {
    "name": "ipython",
    "version": 3
   },
   "file_extension": ".py",
   "mimetype": "text/x-python",
   "name": "python",
   "nbconvert_exporter": "python",
   "pygments_lexer": "ipython3",
   "version": "3.12.4"
  }
 },
 "nbformat": 4,
 "nbformat_minor": 5
}
